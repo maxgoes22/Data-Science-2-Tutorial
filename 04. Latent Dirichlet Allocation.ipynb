{
 "cells": [
  {
   "cell_type": "markdown",
   "metadata": {},
   "source": [
    "# Latent Dirichlet Allocation - Solutions\n",
    "\n",
    "In this tutorial we will be working with the transcriptions of general debates at the United Nations from 1970 to 2016. We will try to see whether the fall of the iron curtain changed the debates.\n",
    "\n",
    "For now, we'll just focus on the representation of the general debeates using various methods."
   ]
  },
  {
   "cell_type": "markdown",
   "metadata": {},
   "source": [
    "## Packages"
   ]
  },
  {
   "cell_type": "code",
   "execution_count": 1,
   "metadata": {},
   "outputs": [],
   "source": [
    "InstallPackages = False\n",
    "if InstallPackages:\n",
    "    !pip install pandas\n",
    "    !pip install numpy\n",
    "    !pip install scikit-learn\n",
    "    !pip install spacy\n",
    "    !pip install gensim\n",
    "    !pip install seaborn\n",
    "    !pip install matplotlib"
   ]
  },
  {
   "cell_type": "code",
   "execution_count": 2,
   "metadata": {},
   "outputs": [],
   "source": [
    "import pandas as pd\n",
    "import numpy as np\n",
    "from sklearn.feature_extraction.text import TfidfVectorizer\n",
    "from sklearn.decomposition import TruncatedSVD\n",
    "import seaborn as sns\n",
    "from matplotlib import pyplot as plt\n",
    "from gensim.corpora import Dictionary\n",
    "from gensim.models import LdaModel\n",
    "from gensim.models import CoherenceModel\n",
    "import spacy\n",
    "from pprint import pprint"
   ]
  },
  {
   "cell_type": "code",
   "execution_count": 3,
   "metadata": {},
   "outputs": [],
   "source": [
    "DownloadAdditions = False\n",
    "if DownloadAdditions:\n",
    "    spacy.cli.download('en_core_web_sm')"
   ]
  },
  {
   "cell_type": "code",
   "execution_count": 4,
   "metadata": {},
   "outputs": [],
   "source": [
    "nlp = spacy.load('en_core_web_sm')"
   ]
  },
  {
   "cell_type": "markdown",
   "metadata": {},
   "source": [
    "## Seed"
   ]
  },
  {
   "cell_type": "code",
   "execution_count": 5,
   "metadata": {},
   "outputs": [],
   "source": [
    "seed = 42"
   ]
  },
  {
   "cell_type": "markdown",
   "metadata": {},
   "source": [
    "## Read the Data\n",
    "Read in the pre-processed 03.1 un-general-debates.csv file and set it to a data frame called df."
   ]
  },
  {
   "cell_type": "code",
   "execution_count": 6,
   "metadata": {},
   "outputs": [],
   "source": [
    "df = pd.read_csv('Data/03.1 un-general-debates.csv')"
   ]
  },
  {
   "cell_type": "markdown",
   "metadata": {},
   "source": [
    "Use info on df"
   ]
  },
  {
   "cell_type": "code",
   "execution_count": 7,
   "metadata": {},
   "outputs": [
    {
     "name": "stdout",
     "output_type": "stream",
     "text": [
      "<class 'pandas.core.frame.DataFrame'>\n",
      "RangeIndex: 7507 entries, 0 to 7506\n",
      "Data columns (total 5 columns):\n",
      " #   Column    Non-Null Count  Dtype \n",
      "---  ------    --------------  ----- \n",
      " 0   session   7507 non-null   int64 \n",
      " 1   year      7507 non-null   int64 \n",
      " 2   country   7507 non-null   object\n",
      " 3   text      7507 non-null   object\n",
      " 4   document  7507 non-null   object\n",
      "dtypes: int64(2), object(3)\n",
      "memory usage: 293.4+ KB\n"
     ]
    }
   ],
   "source": [
    "df.info()"
   ]
  },
  {
   "cell_type": "markdown",
   "metadata": {},
   "source": [
    "Check the head of ad_data"
   ]
  },
  {
   "cell_type": "code",
   "execution_count": 8,
   "metadata": {},
   "outputs": [
    {
     "data": {
      "text/html": [
       "<div>\n",
       "<style scoped>\n",
       "    .dataframe tbody tr th:only-of-type {\n",
       "        vertical-align: middle;\n",
       "    }\n",
       "\n",
       "    .dataframe tbody tr th {\n",
       "        vertical-align: top;\n",
       "    }\n",
       "\n",
       "    .dataframe thead th {\n",
       "        text-align: right;\n",
       "    }\n",
       "</style>\n",
       "<table border=\"1\" class=\"dataframe\">\n",
       "  <thead>\n",
       "    <tr style=\"text-align: right;\">\n",
       "      <th></th>\n",
       "      <th>session</th>\n",
       "      <th>year</th>\n",
       "      <th>country</th>\n",
       "      <th>text</th>\n",
       "      <th>document</th>\n",
       "    </tr>\n",
       "  </thead>\n",
       "  <tbody>\n",
       "    <tr>\n",
       "      <th>0</th>\n",
       "      <td>44</td>\n",
       "      <td>1989</td>\n",
       "      <td>MDV</td>\n",
       "      <td>﻿It is indeed a pleasure for me and the member...</td>\n",
       "      <td>indeed pleasure member delegation extend ambas...</td>\n",
       "    </tr>\n",
       "    <tr>\n",
       "      <th>1</th>\n",
       "      <td>44</td>\n",
       "      <td>1989</td>\n",
       "      <td>FIN</td>\n",
       "      <td>﻿\\nMay I begin by congratulating you. Sir, on ...</td>\n",
       "      <td>may begin congratulate sir election presidency...</td>\n",
       "    </tr>\n",
       "    <tr>\n",
       "      <th>2</th>\n",
       "      <td>44</td>\n",
       "      <td>1989</td>\n",
       "      <td>NER</td>\n",
       "      <td>﻿\\nMr. President, it is a particular pleasure ...</td>\n",
       "      <td>mr president particular pleasure behalf delega...</td>\n",
       "    </tr>\n",
       "    <tr>\n",
       "      <th>3</th>\n",
       "      <td>44</td>\n",
       "      <td>1989</td>\n",
       "      <td>URY</td>\n",
       "      <td>﻿\\nDuring the debate at the fortieth session o...</td>\n",
       "      <td>debate fortieth session general assembly four ...</td>\n",
       "    </tr>\n",
       "    <tr>\n",
       "      <th>4</th>\n",
       "      <td>44</td>\n",
       "      <td>1989</td>\n",
       "      <td>ZWE</td>\n",
       "      <td>﻿I should like at the outset to express my del...</td>\n",
       "      <td>like outset express delegation satisfaction pl...</td>\n",
       "    </tr>\n",
       "  </tbody>\n",
       "</table>\n",
       "</div>"
      ],
      "text/plain": [
       "   session  year country                                               text  \\\n",
       "0       44  1989     MDV  ﻿It is indeed a pleasure for me and the member...   \n",
       "1       44  1989     FIN  ﻿\\nMay I begin by congratulating you. Sir, on ...   \n",
       "2       44  1989     NER  ﻿\\nMr. President, it is a particular pleasure ...   \n",
       "3       44  1989     URY  ﻿\\nDuring the debate at the fortieth session o...   \n",
       "4       44  1989     ZWE  ﻿I should like at the outset to express my del...   \n",
       "\n",
       "                                            document  \n",
       "0  indeed pleasure member delegation extend ambas...  \n",
       "1  may begin congratulate sir election presidency...  \n",
       "2  mr president particular pleasure behalf delega...  \n",
       "3  debate fortieth session general assembly four ...  \n",
       "4  like outset express delegation satisfaction pl...  "
      ]
     },
     "execution_count": 8,
     "metadata": {},
     "output_type": "execute_result"
    }
   ],
   "source": [
    "df.head()"
   ]
  },
  {
   "cell_type": "markdown",
   "metadata": {},
   "source": [
    "## Exercise 1 - Write functions to conduct the Latent Dirichlet Allocation\n",
    "\n",
    "*Hint:* You may write a function to get the document topics matrix\n",
    "\n",
    "*Hint:* You may write a function to train the model\n",
    "\n",
    "*Hint:* You may write a function to build the elbow curve\n",
    "\n",
    "*Hint:* You may write a function to get the posterior probability of tokens per topics"
   ]
  },
  {
   "cell_type": "markdown",
   "metadata": {},
   "source": [
    "Get document topics function"
   ]
  },
  {
   "cell_type": "code",
   "execution_count": 9,
   "metadata": {},
   "outputs": [],
   "source": [
    "def get_document_topics_matrix(statements, num_topics, corpus, model):\n",
    "    \n",
    "    \"\"\"\n",
    "    \n",
    "    This function returns the document to topic matrix.\n",
    "    \n",
    "    \"\"\"\n",
    "    \n",
    "    get_document_topics = [model.get_document_topics(item) for item in corpus]\n",
    "    \n",
    "    document_topics = pd.DataFrame(columns=['topic_' + str(i) for i in range(1,num_topics+1)],index=range(0,len(statements)))\n",
    "\n",
    "    d=0\n",
    "    g=0\n",
    "    for r in range(0, len(statements)):\n",
    "        if statements[r]!=\"\":\n",
    "            document_topics[d:(d+1)] = 0\n",
    "            for t in (range(0, len(get_document_topics[g]))):\n",
    "                document_topics.loc[(r):(r),str(\"topic_\"+str((get_document_topics[g][t][0]+1)))]=get_document_topics[g][t][1]  \n",
    "            g=g+1\n",
    "\n",
    "        d=d+1\n",
    "    \n",
    "    return document_topics"
   ]
  },
  {
   "cell_type": "markdown",
   "metadata": {},
   "source": [
    "train the model"
   ]
  },
  {
   "cell_type": "code",
   "execution_count": 10,
   "metadata": {},
   "outputs": [],
   "source": [
    "def train_lda_model(statements, num_topics, trim):\n",
    "    \n",
    "    \"\"\"\n",
    "    \n",
    "    This function trains the LDA.\n",
    "    \n",
    "    \"\"\"\n",
    "    \n",
    "    docs = []\n",
    "    for statement in statements:\n",
    "        doc = nlp(statement)\n",
    "        tokens = [t.text.lower() for t in doc]\n",
    "        \n",
    "        if tokens:\n",
    "            docs.append(tokens)\n",
    "    \n",
    "    dictionary = Dictionary(docs)\n",
    "    dictionary.filter_extremes(no_below=10, no_above=trim)\n",
    "    corpus = [dictionary.doc2bow(doc) for doc in docs]\n",
    "    \n",
    "    temp = dictionary[0]\n",
    "    id2word = dictionary.id2token\n",
    "    \n",
    "    chunksize = 1500\n",
    "    passes = 100\n",
    "    iterations = 1000\n",
    "    eval_every = None\n",
    "    \n",
    "    model = LdaModel(\n",
    "        corpus=corpus,\n",
    "        id2word=id2word,\n",
    "        chunksize=chunksize,\n",
    "        alpha='auto',\n",
    "        eta='auto',\n",
    "        iterations=iterations,\n",
    "        num_topics=num_topics,\n",
    "        passes=passes,\n",
    "        eval_every=eval_every,\n",
    "        random_state = seed\n",
    "    )\n",
    "    \n",
    "    \n",
    "    return model, corpus, id2word"
   ]
  },
  {
   "cell_type": "markdown",
   "metadata": {},
   "source": [
    "elbow curve function"
   ]
  },
  {
   "cell_type": "code",
   "execution_count": 11,
   "metadata": {},
   "outputs": [],
   "source": [
    "def elbow_topics(statements, maxnumber_topics, trim):\n",
    "    \n",
    "    \"\"\"\n",
    "    \n",
    "    This function is used to get the optimal number of topics in an LDA.\n",
    "    \n",
    "    \"\"\"\n",
    "    \n",
    "    number_topics = range(1, maxnumber_topics + 1) \n",
    "    \n",
    "    model_topics = [train_lda_model(statements, num_topics = i, trim = trim)[0] for i in number_topics]\n",
    "    corpus_topics = [train_lda_model(statements, num_topics = i, trim = trim)[1] for i in number_topics]\n",
    "    \n",
    "    perplexityscores = [model_topics[i].log_perplexity(corpus_topics[i]) for i in range(len(model_topics))]\n",
    "    coherencescores = [CoherenceModel(model=model_topics[i], corpus=corpus_topics[i], coherence='u_mass',topn = 10).get_coherence() for i in range(len(model_topics))]\n",
    "    \n",
    "    return pd.concat([pd.DataFrame({'Coherence': coherence_score})*(-1), pd.DataFrame({'Topics': range(1, maxnumber_topics + 1)})], axis=1) \n",
    "    \n",
    "    print(perplexityscores)\n",
    "    print(coherencescores)    \n",
    "    \n",
    "    plt.locator_params(axis='y', nbins=12)\n",
    "    plt.locator_params(axis='x', nbins=maxnumber_topics + 1)\n",
    "    \n",
    "    plt.plot(number_topics, coherencescores)\n",
    "    plt.xlabel('Number of Topics')\n",
    "    plt.ylabel('coherencescores')\n",
    "    plt.title('Coherence Score')\n",
    "    plt.show()\n",
    "    \n",
    "    plt.plot(number_topics, perplexityscores)\n",
    "    plt.xlabel('Number of Topics')\n",
    "    plt.ylabel('perplexityscores')\n",
    "    plt.title('Perplexity Score')\n",
    "    plt.show()"
   ]
  },
  {
   "cell_type": "markdown",
   "metadata": {},
   "source": [
    "Posterior probability of tokens per topics"
   ]
  },
  {
   "cell_type": "code",
   "execution_count": 12,
   "metadata": {},
   "outputs": [],
   "source": [
    "def tokens_per_topics(model):\n",
    "    \n",
    "    \"\"\"\n",
    "    \n",
    "    This function is used to get the posterior probability of tokens per topics.\n",
    "    \n",
    "    \"\"\"\n",
    "    \n",
    "    topics = model.show_topics(formatted=False)\n",
    "    \n",
    "    \n",
    "    out = []\n",
    "    for i, topic in topics:\n",
    "        for word, weight in topic:\n",
    "            out.append([word, i , weight])\n",
    "    \n",
    "    \n",
    "    return pd.DataFrame(out, columns=['word', 'topic', 'probability'])  \n",
    "    "
   ]
  },
  {
   "cell_type": "markdown",
   "metadata": {},
   "source": [
    "## Exercise 2 - Conduct the Latent Dirichlet Allocation"
   ]
  },
  {
   "cell_type": "markdown",
   "metadata": {},
   "source": [
    "Not it's time to conduct the Latent Dirichlet Allocation."
   ]
  },
  {
   "cell_type": "code",
   "execution_count": 13,
   "metadata": {},
   "outputs": [],
   "source": [
    "#define the trim parameter\n",
    "trim_num = 0.95"
   ]
  },
  {
   "cell_type": "code",
   "execution_count": 14,
   "metadata": {},
   "outputs": [],
   "source": [
    "#coherence_score = elbow_topics(data['document'], maxnumber_topics = 100, trim = trim_num)"
   ]
  },
  {
   "cell_type": "code",
   "execution_count": 15,
   "metadata": {},
   "outputs": [],
   "source": [
    "#coherence_score"
   ]
  },
  {
   "cell_type": "code",
   "execution_count": 16,
   "metadata": {},
   "outputs": [],
   "source": [
    "#set the number of topics\n",
    "true_k = 10"
   ]
  },
  {
   "cell_type": "code",
   "execution_count": 17,
   "metadata": {},
   "outputs": [],
   "source": [
    "#train model\n",
    "model, corpus, id2word = train_lda_model(statements = df['document'], num_topics = true_k, trim = trim_num)"
   ]
  },
  {
   "cell_type": "code",
   "execution_count": 18,
   "metadata": {},
   "outputs": [
    {
     "name": "stdout",
     "output_type": "stream",
     "text": [
      "[(0,\n",
      "  '0.014*\"burundi\" + 0.013*\"government\" + 0.011*\"2001\" + 0.010*\"continue\" + '\n",
      "  '0.007*\"war\" + 0.007*\"delegation\" + 0.006*\"organization\" + 0.006*\"term\" + '\n",
      "  '0.005*\"resolution\" + 0.005*\"process\"'),\n",
      " (1,\n",
      "  '0.011*\"africa\" + 0.009*\"economic\" + 0.007*\"community\" + 0.007*\"south\" + '\n",
      "  '0.007*\"problem\" + 0.006*\"african\" + 0.006*\"organization\" + 0.006*\"continue\" '\n",
      "  '+ 0.006*\"develop\" + 0.006*\"session\"'),\n",
      " (2,\n",
      "  '0.007*\"must\" + 0.007*\"global\" + 0.006*\"human\" + 0.006*\"reform\" + '\n",
      "  '0.006*\"need\" + 0.005*\"council\" + 0.005*\"challenge\" + 0.005*\"continue\" + '\n",
      "  '0.005*\"community\" + 0.005*\"develop\"'),\n",
      " (3,\n",
      "  '0.012*\"terrorism\" + 0.012*\"kuwait\" + 0.009*\"iraq\" + 0.007*\"terrorist\" + '\n",
      "  '0.007*\"resolution\" + 0.007*\"government\" + 0.006*\"palestinian\" + '\n",
      "  '0.005*\"humanitarian\" + 0.005*\"act\" + 0.005*\"convention\"'),\n",
      " (4,\n",
      "  '0.013*\"azerbaijan\" + 0.011*\"conflict\" + 0.009*\"cooperation\" + '\n",
      "  '0.008*\"community\" + 0.008*\"organization\" + 0.007*\"global\" + 0.007*\"region\" '\n",
      "  '+ 0.007*\"economic\" + 0.007*\"threat\" + 0.006*\"sea\"'),\n",
      " (5,\n",
      "  '0.009*\"struggle\" + 0.008*\"independence\" + 0.008*\"israel\" + 0.008*\"arab\" + '\n",
      "  '0.008*\"aggression\" + 0.007*\"republic\" + 0.007*\"force\" + 0.007*\"territory\" + '\n",
      "  '0.007*\"state\" + 0.007*\"government\"'),\n",
      " (6,\n",
      "  '0.009*\"must\" + 0.007*\"one\" + 0.006*\"nation\" + 0.006*\"human\" + 0.006*\"right\" '\n",
      "  '+ 0.005*\"time\" + 0.005*\"would\" + 0.005*\"great\" + 0.004*\"economic\" + '\n",
      "  '0.004*\"organization\"'),\n",
      " (7,\n",
      "  '0.022*\"terrorism\" + 0.012*\"cooperation\" + 0.011*\"republic\" + '\n",
      "  '0.010*\"european\" + 0.009*\"resolution\" + 0.008*\"terrorist\" + '\n",
      "  '0.008*\"community\" + 0.008*\"political\" + 0.008*\"one\" + 0.008*\"organization\"'),\n",
      " (8,\n",
      "  '0.011*\"nuclear\" + 0.007*\"problem\" + 0.007*\"operation\" + 0.007*\"weapon\" + '\n",
      "  '0.007*\"co\" + 0.007*\"economic\" + 0.006*\"conference\" + 0.006*\"relation\" + '\n",
      "  '0.006*\"disarmament\" + 0.005*\"develop\"'),\n",
      " (9,\n",
      "  '0.012*\"per\" + 0.012*\"cent\" + 0.011*\"council\" + 0.011*\"must\" + '\n",
      "  '0.009*\"government\" + 0.008*\"change\" + 0.008*\"power\" + 0.008*\"liberia\" + '\n",
      "  '0.008*\"liberian\" + 0.007*\"war\"')]\n"
     ]
    }
   ],
   "source": [
    "# print the keywords per topic\n",
    "pprint(model.print_topics(num_words=10))"
   ]
  },
  {
   "cell_type": "code",
   "execution_count": 19,
   "metadata": {},
   "outputs": [],
   "source": [
    "#tokens_per_topics_probability = tokens_per_topics(model)"
   ]
  },
  {
   "cell_type": "code",
   "execution_count": 20,
   "metadata": {},
   "outputs": [],
   "source": [
    "#tokens_per_topics_probability"
   ]
  },
  {
   "cell_type": "code",
   "execution_count": 21,
   "metadata": {},
   "outputs": [
    {
     "name": "stdout",
     "output_type": "stream",
     "text": [
      "       topic_1   topic_2   topic_3   topic_4   topic_5   topic_6   topic_7  \\\n",
      "0            0  0.528248  0.224214         0         0  0.010069  0.111828   \n",
      "1            0  0.210945  0.378441         0         0         0  0.118002   \n",
      "2            0  0.705527   0.04022         0         0         0  0.157682   \n",
      "3            0  0.371041  0.064798         0         0         0  0.491741   \n",
      "4            0  0.576019  0.110184         0         0  0.056622  0.201706   \n",
      "...        ...       ...       ...       ...       ...       ...       ...   \n",
      "7502         0         0         0         0  0.998481         0         0   \n",
      "7503  0.049498         0         0         0         0         0         0   \n",
      "7504  0.999185         0         0         0         0         0         0   \n",
      "7505         0         0         0  0.983791  0.015093         0         0   \n",
      "7506  0.101411         0         0  0.897809         0         0         0   \n",
      "\n",
      "       topic_8   topic_9  topic_10  \n",
      "0     0.011738   0.11373         0  \n",
      "1     0.038967  0.253392         0  \n",
      "2     0.018128  0.068897         0  \n",
      "3      0.03384  0.038321         0  \n",
      "4            0  0.046433         0  \n",
      "...        ...       ...       ...  \n",
      "7502         0         0         0  \n",
      "7503         0         0  0.945744  \n",
      "7504         0         0         0  \n",
      "7505         0         0         0  \n",
      "7506         0         0         0  \n",
      "\n",
      "[7507 rows x 10 columns]\n"
     ]
    }
   ],
   "source": [
    "#get document topics from model\n",
    "#pd.set_option('display.max_rows', None)\n",
    "document_topics = get_document_topics_matrix(statements = df['document'], num_topics = true_k, corpus = corpus, model = model)\n",
    "print(document_topics)"
   ]
  },
  {
   "cell_type": "markdown",
   "metadata": {},
   "source": [
    "## Exercise 3 - Vizualize the Latent Dirichlet Allocation"
   ]
  },
  {
   "cell_type": "markdown",
   "metadata": {},
   "source": [
    "Now, it's time to visualize the Latent Dirichlet Allocation results.\n",
    "\n",
    "Visualize the divergence between the topics using, e.g., the Jensen-Shannon divergence"
   ]
  },
  {
   "cell_type": "markdown",
   "metadata": {},
   "source": [
    "Function to plot differences between topics"
   ]
  },
  {
   "cell_type": "code",
   "execution_count": 22,
   "metadata": {},
   "outputs": [],
   "source": [
    "def plot_difference_matplotlib(mdiff, title=\"\", annotation=None):\n",
    "    \n",
    "    \"\"\"\n",
    "    Function to plot difference between models. Uses matplotlib as the backend.\n",
    "    \n",
    "    \"\"\"\n",
    "    \n",
    "    fig, ax = plt.subplots(figsize=(8, 4))\n",
    "    data = ax.imshow(mdiff, cmap='RdBu', origin='lower')\n",
    "    plt.title(title)\n",
    "    plt.colorbar(data)\n",
    "    \n",
    "    topic = topic = [\"{}\".format(i) for i in range(1, len(mdiff)+1)]\n",
    "    ax.set_xticks(np.arange(len(topic)), labels=topic)\n",
    "    ax.set_yticks(np.arange(len(topic)), labels=topic)\n",
    "    \n",
    "    ax.set_xlabel('Topic')\n",
    "    ax.set_ylabel('Topic')\n",
    "    \n",
    "    #plt.savefig(\"Figures/Figure_LDATopicDifferences\"+ str(len(mdiff)) + \".pdf\", bbox_inches='tight', dpi=300)"
   ]
  },
  {
   "cell_type": "markdown",
   "metadata": {},
   "source": [
    "plot differences between topics"
   ]
  },
  {
   "cell_type": "code",
   "execution_count": 23,
   "metadata": {},
   "outputs": [
    {
     "data": {
      "image/png": "[encoded data removed]",
      "text/plain": [
       "<Figure size 800x400 with 2 Axes>"
      ]
     },
     "metadata": {},
     "output_type": "display_data"
    }
   ],
   "source": [
    "mdiff, annotation = model.diff(model, distance='jensen_shannon', num_words=10)\n",
    "plot_difference_matplotlib(mdiff, title=\"\", annotation=annotation)"
   ]
  },
  {
   "cell_type": "markdown",
   "metadata": {},
   "source": [
    "## Exercise 4 - Add topics over documents to dataframe and visualize the topics over time"
   ]
  },
  {
   "cell_type": "markdown",
   "metadata": {},
   "source": [
    "Add topics over documents to Data Frame"
   ]
  },
  {
   "cell_type": "code",
   "execution_count": 24,
   "metadata": {},
   "outputs": [],
   "source": [
    "df = pd.concat([df,document_topics], axis=1)"
   ]
  },
  {
   "cell_type": "code",
   "execution_count": 25,
   "metadata": {},
   "outputs": [
    {
     "name": "stdout",
     "output_type": "stream",
     "text": [
      "<class 'pandas.core.frame.DataFrame'>\n",
      "RangeIndex: 7507 entries, 0 to 7506\n",
      "Data columns (total 15 columns):\n",
      " #   Column    Non-Null Count  Dtype \n",
      "---  ------    --------------  ----- \n",
      " 0   session   7507 non-null   int64 \n",
      " 1   year      7507 non-null   int64 \n",
      " 2   country   7507 non-null   object\n",
      " 3   text      7507 non-null   object\n",
      " 4   document  7507 non-null   object\n",
      " 5   topic_1   7507 non-null   object\n",
      " 6   topic_2   7507 non-null   object\n",
      " 7   topic_3   7507 non-null   object\n",
      " 8   topic_4   7507 non-null   object\n",
      " 9   topic_5   7507 non-null   object\n",
      " 10  topic_6   7507 non-null   object\n",
      " 11  topic_7   7507 non-null   object\n",
      " 12  topic_8   7507 non-null   object\n",
      " 13  topic_9   7507 non-null   object\n",
      " 14  topic_10  7507 non-null   object\n",
      "dtypes: int64(2), object(13)\n",
      "memory usage: 879.9+ KB\n"
     ]
    }
   ],
   "source": [
    "df.info()"
   ]
  },
  {
   "cell_type": "code",
   "execution_count": 30,
   "metadata": {},
   "outputs": [],
   "source": [
    "#calculate the mean\n",
    "yearlyMean = df.groupby(['year'])['topic_9'].mean().reset_index()"
   ]
  },
  {
   "cell_type": "code",
   "execution_count": 31,
   "metadata": {},
   "outputs": [
    {
     "data": {
      "text/html": [
       "<div>\n",
       "<style scoped>\n",
       "    .dataframe tbody tr th:only-of-type {\n",
       "        vertical-align: middle;\n",
       "    }\n",
       "\n",
       "    .dataframe tbody tr th {\n",
       "        vertical-align: top;\n",
       "    }\n",
       "\n",
       "    .dataframe thead th {\n",
       "        text-align: right;\n",
       "    }\n",
       "</style>\n",
       "<table border=\"1\" class=\"dataframe\">\n",
       "  <thead>\n",
       "    <tr style=\"text-align: right;\">\n",
       "      <th></th>\n",
       "      <th>year</th>\n",
       "      <th>topic_9</th>\n",
       "    </tr>\n",
       "  </thead>\n",
       "  <tbody>\n",
       "    <tr>\n",
       "      <th>0</th>\n",
       "      <td>1970</td>\n",
       "      <td>0.286984</td>\n",
       "    </tr>\n",
       "    <tr>\n",
       "      <th>1</th>\n",
       "      <td>1971</td>\n",
       "      <td>0.309529</td>\n",
       "    </tr>\n",
       "    <tr>\n",
       "      <th>2</th>\n",
       "      <td>1972</td>\n",
       "      <td>0.30671</td>\n",
       "    </tr>\n",
       "    <tr>\n",
       "      <th>3</th>\n",
       "      <td>1973</td>\n",
       "      <td>0.29882</td>\n",
       "    </tr>\n",
       "    <tr>\n",
       "      <th>4</th>\n",
       "      <td>1974</td>\n",
       "      <td>0.252097</td>\n",
       "    </tr>\n",
       "    <tr>\n",
       "      <th>5</th>\n",
       "      <td>1975</td>\n",
       "      <td>0.31858</td>\n",
       "    </tr>\n",
       "    <tr>\n",
       "      <th>6</th>\n",
       "      <td>1976</td>\n",
       "      <td>0.285298</td>\n",
       "    </tr>\n",
       "    <tr>\n",
       "      <th>7</th>\n",
       "      <td>1977</td>\n",
       "      <td>0.261463</td>\n",
       "    </tr>\n",
       "    <tr>\n",
       "      <th>8</th>\n",
       "      <td>1978</td>\n",
       "      <td>0.25747</td>\n",
       "    </tr>\n",
       "    <tr>\n",
       "      <th>9</th>\n",
       "      <td>1979</td>\n",
       "      <td>0.22082</td>\n",
       "    </tr>\n",
       "    <tr>\n",
       "      <th>10</th>\n",
       "      <td>1980</td>\n",
       "      <td>0.233521</td>\n",
       "    </tr>\n",
       "    <tr>\n",
       "      <th>11</th>\n",
       "      <td>1981</td>\n",
       "      <td>0.238667</td>\n",
       "    </tr>\n",
       "    <tr>\n",
       "      <th>12</th>\n",
       "      <td>1982</td>\n",
       "      <td>0.216156</td>\n",
       "    </tr>\n",
       "    <tr>\n",
       "      <th>13</th>\n",
       "      <td>1983</td>\n",
       "      <td>0.231926</td>\n",
       "    </tr>\n",
       "    <tr>\n",
       "      <th>14</th>\n",
       "      <td>1984</td>\n",
       "      <td>0.224602</td>\n",
       "    </tr>\n",
       "    <tr>\n",
       "      <th>15</th>\n",
       "      <td>1985</td>\n",
       "      <td>0.209506</td>\n",
       "    </tr>\n",
       "    <tr>\n",
       "      <th>16</th>\n",
       "      <td>1986</td>\n",
       "      <td>0.200901</td>\n",
       "    </tr>\n",
       "    <tr>\n",
       "      <th>17</th>\n",
       "      <td>1987</td>\n",
       "      <td>0.201925</td>\n",
       "    </tr>\n",
       "    <tr>\n",
       "      <th>18</th>\n",
       "      <td>1988</td>\n",
       "      <td>0.195085</td>\n",
       "    </tr>\n",
       "    <tr>\n",
       "      <th>19</th>\n",
       "      <td>1989</td>\n",
       "      <td>0.166826</td>\n",
       "    </tr>\n",
       "    <tr>\n",
       "      <th>20</th>\n",
       "      <td>1990</td>\n",
       "      <td>0.154329</td>\n",
       "    </tr>\n",
       "    <tr>\n",
       "      <th>21</th>\n",
       "      <td>1991</td>\n",
       "      <td>0.137904</td>\n",
       "    </tr>\n",
       "    <tr>\n",
       "      <th>22</th>\n",
       "      <td>1992</td>\n",
       "      <td>0.116389</td>\n",
       "    </tr>\n",
       "    <tr>\n",
       "      <th>23</th>\n",
       "      <td>1993</td>\n",
       "      <td>0.100426</td>\n",
       "    </tr>\n",
       "    <tr>\n",
       "      <th>24</th>\n",
       "      <td>1994</td>\n",
       "      <td>0.099353</td>\n",
       "    </tr>\n",
       "    <tr>\n",
       "      <th>25</th>\n",
       "      <td>1995</td>\n",
       "      <td>0.12432</td>\n",
       "    </tr>\n",
       "    <tr>\n",
       "      <th>26</th>\n",
       "      <td>1996</td>\n",
       "      <td>0.118795</td>\n",
       "    </tr>\n",
       "    <tr>\n",
       "      <th>27</th>\n",
       "      <td>1997</td>\n",
       "      <td>0.107462</td>\n",
       "    </tr>\n",
       "    <tr>\n",
       "      <th>28</th>\n",
       "      <td>1998</td>\n",
       "      <td>0.0922</td>\n",
       "    </tr>\n",
       "    <tr>\n",
       "      <th>29</th>\n",
       "      <td>1999</td>\n",
       "      <td>0.068781</td>\n",
       "    </tr>\n",
       "    <tr>\n",
       "      <th>30</th>\n",
       "      <td>2000</td>\n",
       "      <td>0.072773</td>\n",
       "    </tr>\n",
       "    <tr>\n",
       "      <th>31</th>\n",
       "      <td>2001</td>\n",
       "      <td>0.03902</td>\n",
       "    </tr>\n",
       "    <tr>\n",
       "      <th>32</th>\n",
       "      <td>2002</td>\n",
       "      <td>0.04978</td>\n",
       "    </tr>\n",
       "    <tr>\n",
       "      <th>33</th>\n",
       "      <td>2003</td>\n",
       "      <td>0.045962</td>\n",
       "    </tr>\n",
       "    <tr>\n",
       "      <th>34</th>\n",
       "      <td>2004</td>\n",
       "      <td>0.036135</td>\n",
       "    </tr>\n",
       "    <tr>\n",
       "      <th>35</th>\n",
       "      <td>2005</td>\n",
       "      <td>0.040892</td>\n",
       "    </tr>\n",
       "    <tr>\n",
       "      <th>36</th>\n",
       "      <td>2006</td>\n",
       "      <td>0.038154</td>\n",
       "    </tr>\n",
       "    <tr>\n",
       "      <th>37</th>\n",
       "      <td>2007</td>\n",
       "      <td>0.044894</td>\n",
       "    </tr>\n",
       "    <tr>\n",
       "      <th>38</th>\n",
       "      <td>2008</td>\n",
       "      <td>0.03576</td>\n",
       "    </tr>\n",
       "    <tr>\n",
       "      <th>39</th>\n",
       "      <td>2009</td>\n",
       "      <td>0.0453</td>\n",
       "    </tr>\n",
       "    <tr>\n",
       "      <th>40</th>\n",
       "      <td>2010</td>\n",
       "      <td>0.055526</td>\n",
       "    </tr>\n",
       "    <tr>\n",
       "      <th>41</th>\n",
       "      <td>2011</td>\n",
       "      <td>0.034675</td>\n",
       "    </tr>\n",
       "    <tr>\n",
       "      <th>42</th>\n",
       "      <td>2012</td>\n",
       "      <td>0.037734</td>\n",
       "    </tr>\n",
       "    <tr>\n",
       "      <th>43</th>\n",
       "      <td>2013</td>\n",
       "      <td>0.046198</td>\n",
       "    </tr>\n",
       "    <tr>\n",
       "      <th>44</th>\n",
       "      <td>2014</td>\n",
       "      <td>0.030019</td>\n",
       "    </tr>\n",
       "    <tr>\n",
       "      <th>45</th>\n",
       "      <td>2015</td>\n",
       "      <td>0.030319</td>\n",
       "    </tr>\n",
       "  </tbody>\n",
       "</table>\n",
       "</div>"
      ],
      "text/plain": [
       "    year   topic_9\n",
       "0   1970  0.286984\n",
       "1   1971  0.309529\n",
       "2   1972   0.30671\n",
       "3   1973   0.29882\n",
       "4   1974  0.252097\n",
       "5   1975   0.31858\n",
       "6   1976  0.285298\n",
       "7   1977  0.261463\n",
       "8   1978   0.25747\n",
       "9   1979   0.22082\n",
       "10  1980  0.233521\n",
       "11  1981  0.238667\n",
       "12  1982  0.216156\n",
       "13  1983  0.231926\n",
       "14  1984  0.224602\n",
       "15  1985  0.209506\n",
       "16  1986  0.200901\n",
       "17  1987  0.201925\n",
       "18  1988  0.195085\n",
       "19  1989  0.166826\n",
       "20  1990  0.154329\n",
       "21  1991  0.137904\n",
       "22  1992  0.116389\n",
       "23  1993  0.100426\n",
       "24  1994  0.099353\n",
       "25  1995   0.12432\n",
       "26  1996  0.118795\n",
       "27  1997  0.107462\n",
       "28  1998    0.0922\n",
       "29  1999  0.068781\n",
       "30  2000  0.072773\n",
       "31  2001   0.03902\n",
       "32  2002   0.04978\n",
       "33  2003  0.045962\n",
       "34  2004  0.036135\n",
       "35  2005  0.040892\n",
       "36  2006  0.038154\n",
       "37  2007  0.044894\n",
       "38  2008   0.03576\n",
       "39  2009    0.0453\n",
       "40  2010  0.055526\n",
       "41  2011  0.034675\n",
       "42  2012  0.037734\n",
       "43  2013  0.046198\n",
       "44  2014  0.030019\n",
       "45  2015  0.030319"
      ]
     },
     "execution_count": 31,
     "metadata": {},
     "output_type": "execute_result"
    }
   ],
   "source": [
    "yearlyMean"
   ]
  },
  {
   "cell_type": "code",
   "execution_count": 33,
   "metadata": {},
   "outputs": [
    {
     "data": {
      "text/plain": [
       "Text(0, 0.5, 'Nuclear weapon topic')"
      ]
     },
     "execution_count": 33,
     "metadata": {},
     "output_type": "execute_result"
    },
    {
     "data": {
      "image/png": "[encoded data removed]",
      "text/plain": [
       "<Figure size 640x480 with 1 Axes>"
      ]
     },
     "metadata": {},
     "output_type": "display_data"
    }
   ],
   "source": [
    "fig, ax = plt.subplots()\n",
    "ax.plot(yearlyMean['year'], yearlyMean['topic_9'])\n",
    "ax.set_xlabel('Year')\n",
    "ax.set_ylabel('Nuclear weapon topic')\n",
    "#plt.savefig(\"Figures/Figure_TopicTime\"+ str(len(mdiff)) + \".pdf\", bbox_inches='tight', dpi=300)"
   ]
  },
  {
   "cell_type": "markdown",
   "metadata": {},
   "source": [
    "## Exercise 5 - Save the Data Frame"
   ]
  },
  {
   "cell_type": "markdown",
   "metadata": {},
   "source": [
    "Save the data as 05.1 un-general-debates"
   ]
  },
  {
   "cell_type": "code",
   "execution_count": 29,
   "metadata": {},
   "outputs": [],
   "source": [
    "#excelfilename = \"Data/05.1 un-general-debates.csv\"\n",
    "#df.to_csv(excelfilename,index=False)"
   ]
  },
  {
   "cell_type": "code",
   "execution_count": null,
   "metadata": {},
   "outputs": [],
   "source": []
  }
 ],
 "metadata": {
  "kernelspec": {
   "display_name": "Python 3 (ipykernel)",
   "language": "python",
   "name": "python3"
  },
  "language_info": {
   "codemirror_mode": {
    "name": "ipython",
    "version": 3
   },
   "file_extension": ".py",
   "mimetype": "text/x-python",
   "name": "python",
   "nbconvert_exporter": "python",
   "pygments_lexer": "ipython3",
   "version": "3.12.4"
  }
 },
 "nbformat": 4,
 "nbformat_minor": 4
}
