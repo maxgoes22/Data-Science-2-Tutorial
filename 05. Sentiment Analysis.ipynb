{
 "cells": [
  {
   "cell_type": "markdown",
   "metadata": {},
   "source": [
    "# Sentiment Analysis - Solutions\n",
    "\n",
    "In this tutorial we will be working with the transcriptions of general debates at the United Nations from 1970 to 2016. We will try to see whether the fall of the iron curtain changed the debates.\n",
    "\n",
    "This tutorial will focus on the sentiment"
   ]
  },
  {
   "cell_type": "markdown",
   "metadata": {},
   "source": [
    "## Packages"
   ]
  },
  {
   "cell_type": "code",
   "execution_count": 1,
   "metadata": {},
   "outputs": [],
   "source": [
    "InstallPackages = False\n",
    "if InstallPackages:\n",
    "    !pip install pandas\n",
    "    !pip install numpy\n",
    "    !pip install seaborn\n",
    "    !pip install matplotlib\n",
    "    !pip install germansentiment\n",
    "    !pip install transformers"
   ]
  },
  {
   "cell_type": "code",
   "execution_count": 2,
   "metadata": {},
   "outputs": [],
   "source": [
    "import pandas as pd\n",
    "import numpy as np"
   ]
  },
  {
   "cell_type": "code",
   "execution_count": 3,
   "metadata": {},
   "outputs": [],
   "source": [
    "import seaborn as sns\n",
    "from matplotlib import pyplot as plt"
   ]
  },
  {
   "cell_type": "code",
   "execution_count": 4,
   "metadata": {},
   "outputs": [],
   "source": [
    "from germansentiment import SentimentModel"
   ]
  },
  {
   "cell_type": "code",
   "execution_count": 5,
   "metadata": {},
   "outputs": [],
   "source": [
    "from transformers import pipeline"
   ]
  },
  {
   "cell_type": "markdown",
   "metadata": {},
   "source": [
    "## Seed"
   ]
  },
  {
   "cell_type": "code",
   "execution_count": 6,
   "metadata": {},
   "outputs": [],
   "source": [
    "seed = 42"
   ]
  },
  {
   "cell_type": "markdown",
   "metadata": {},
   "source": [
    "## Read the Data\n",
    "Read in the pre-processed 03.1 un-general-debates.csv file and set it to a data frame called df.\n",
    "\n",
    "**Note:** We will focus on the subset of the German states GDR and BRD with the country codes DEU and DDR, respectively, and USA and Russia with the country codes 'USA' and 'RUS', respectively.\n"
   ]
  },
  {
   "cell_type": "code",
   "execution_count": 7,
   "metadata": {},
   "outputs": [],
   "source": [
    "df = pd.read_csv('Data/03.1 un-general-debates.csv')"
   ]
  },
  {
   "cell_type": "markdown",
   "metadata": {},
   "source": [
    "Use info on df"
   ]
  },
  {
   "cell_type": "code",
   "execution_count": 8,
   "metadata": {},
   "outputs": [
    {
     "name": "stdout",
     "output_type": "stream",
     "text": [
      "<class 'pandas.core.frame.DataFrame'>\n",
      "RangeIndex: 7507 entries, 0 to 7506\n",
      "Data columns (total 5 columns):\n",
      " #   Column    Non-Null Count  Dtype \n",
      "---  ------    --------------  ----- \n",
      " 0   session   7507 non-null   int64 \n",
      " 1   year      7507 non-null   int64 \n",
      " 2   country   7507 non-null   object\n",
      " 3   text      7507 non-null   object\n",
      " 4   document  7507 non-null   object\n",
      "dtypes: int64(2), object(3)\n",
      "memory usage: 293.4+ KB\n"
     ]
    }
   ],
   "source": [
    "df.info()"
   ]
  },
  {
   "cell_type": "markdown",
   "metadata": {},
   "source": [
    "Check the head of ad_data"
   ]
  },
  {
   "cell_type": "code",
   "execution_count": 9,
   "metadata": {},
   "outputs": [
    {
     "data": {
      "text/html": [
       "<div>\n",
       "<style scoped>\n",
       "    .dataframe tbody tr th:only-of-type {\n",
       "        vertical-align: middle;\n",
       "    }\n",
       "\n",
       "    .dataframe tbody tr th {\n",
       "        vertical-align: top;\n",
       "    }\n",
       "\n",
       "    .dataframe thead th {\n",
       "        text-align: right;\n",
       "    }\n",
       "</style>\n",
       "<table border=\"1\" class=\"dataframe\">\n",
       "  <thead>\n",
       "    <tr style=\"text-align: right;\">\n",
       "      <th></th>\n",
       "      <th>session</th>\n",
       "      <th>year</th>\n",
       "      <th>country</th>\n",
       "      <th>text</th>\n",
       "      <th>document</th>\n",
       "    </tr>\n",
       "  </thead>\n",
       "  <tbody>\n",
       "    <tr>\n",
       "      <th>0</th>\n",
       "      <td>44</td>\n",
       "      <td>1989</td>\n",
       "      <td>MDV</td>\n",
       "      <td>﻿It is indeed a pleasure for me and the member...</td>\n",
       "      <td>indeed pleasure member delegation extend ambas...</td>\n",
       "    </tr>\n",
       "    <tr>\n",
       "      <th>1</th>\n",
       "      <td>44</td>\n",
       "      <td>1989</td>\n",
       "      <td>FIN</td>\n",
       "      <td>﻿\\nMay I begin by congratulating you. Sir, on ...</td>\n",
       "      <td>may begin congratulate sir election presidency...</td>\n",
       "    </tr>\n",
       "    <tr>\n",
       "      <th>2</th>\n",
       "      <td>44</td>\n",
       "      <td>1989</td>\n",
       "      <td>NER</td>\n",
       "      <td>﻿\\nMr. President, it is a particular pleasure ...</td>\n",
       "      <td>mr president particular pleasure behalf delega...</td>\n",
       "    </tr>\n",
       "    <tr>\n",
       "      <th>3</th>\n",
       "      <td>44</td>\n",
       "      <td>1989</td>\n",
       "      <td>URY</td>\n",
       "      <td>﻿\\nDuring the debate at the fortieth session o...</td>\n",
       "      <td>debate fortieth session general assembly four ...</td>\n",
       "    </tr>\n",
       "    <tr>\n",
       "      <th>4</th>\n",
       "      <td>44</td>\n",
       "      <td>1989</td>\n",
       "      <td>ZWE</td>\n",
       "      <td>﻿I should like at the outset to express my del...</td>\n",
       "      <td>like outset express delegation satisfaction pl...</td>\n",
       "    </tr>\n",
       "  </tbody>\n",
       "</table>\n",
       "</div>"
      ],
      "text/plain": [
       "   session  year country                                               text  \\\n",
       "0       44  1989     MDV  ﻿It is indeed a pleasure for me and the member...   \n",
       "1       44  1989     FIN  ﻿\\nMay I begin by congratulating you. Sir, on ...   \n",
       "2       44  1989     NER  ﻿\\nMr. President, it is a particular pleasure ...   \n",
       "3       44  1989     URY  ﻿\\nDuring the debate at the fortieth session o...   \n",
       "4       44  1989     ZWE  ﻿I should like at the outset to express my del...   \n",
       "\n",
       "                                            document  \n",
       "0  indeed pleasure member delegation extend ambas...  \n",
       "1  may begin congratulate sir election presidency...  \n",
       "2  mr president particular pleasure behalf delega...  \n",
       "3  debate fortieth session general assembly four ...  \n",
       "4  like outset express delegation satisfaction pl...  "
      ]
     },
     "execution_count": 9,
     "metadata": {},
     "output_type": "execute_result"
    }
   ],
   "source": [
    "df.head()"
   ]
  },
  {
   "cell_type": "markdown",
   "metadata": {},
   "source": [
    "Focus on the some countries for memory reasons"
   ]
  },
  {
   "cell_type": "code",
   "execution_count": 10,
   "metadata": {},
   "outputs": [],
   "source": [
    "where = df['country'].isin(['DDR','DEU','USA','RUS'])"
   ]
  },
  {
   "cell_type": "code",
   "execution_count": 11,
   "metadata": {},
   "outputs": [],
   "source": [
    "df = df[where]"
   ]
  },
  {
   "cell_type": "code",
   "execution_count": 12,
   "metadata": {},
   "outputs": [
    {
     "data": {
      "text/html": [
       "<div>\n",
       "<style scoped>\n",
       "    .dataframe tbody tr th:only-of-type {\n",
       "        vertical-align: middle;\n",
       "    }\n",
       "\n",
       "    .dataframe tbody tr th {\n",
       "        vertical-align: top;\n",
       "    }\n",
       "\n",
       "    .dataframe thead th {\n",
       "        text-align: right;\n",
       "    }\n",
       "</style>\n",
       "<table border=\"1\" class=\"dataframe\">\n",
       "  <thead>\n",
       "    <tr style=\"text-align: right;\">\n",
       "      <th></th>\n",
       "      <th>session</th>\n",
       "      <th>year</th>\n",
       "      <th>country</th>\n",
       "      <th>text</th>\n",
       "      <th>document</th>\n",
       "    </tr>\n",
       "  </thead>\n",
       "  <tbody>\n",
       "    <tr>\n",
       "      <th>7</th>\n",
       "      <td>44</td>\n",
       "      <td>1989</td>\n",
       "      <td>RUS</td>\n",
       "      <td>﻿My task as head of the delegation of the Sovi...</td>\n",
       "      <td>task head delegation soviet union general asse...</td>\n",
       "    </tr>\n",
       "    <tr>\n",
       "      <th>110</th>\n",
       "      <td>44</td>\n",
       "      <td>1989</td>\n",
       "      <td>DEU</td>\n",
       "      <td>﻿\\nI congratulate you, Sir, on your election a...</td>\n",
       "      <td>congratulate sir election president general as...</td>\n",
       "    </tr>\n",
       "    <tr>\n",
       "      <th>124</th>\n",
       "      <td>44</td>\n",
       "      <td>1989</td>\n",
       "      <td>USA</td>\n",
       "      <td>﻿I am honoured to address the General Assembly...</td>\n",
       "      <td>honour address general assembly today beginnin...</td>\n",
       "    </tr>\n",
       "    <tr>\n",
       "      <th>128</th>\n",
       "      <td>44</td>\n",
       "      <td>1989</td>\n",
       "      <td>DDR</td>\n",
       "      <td>﻿May I congratulate you, Sir, on your election...</td>\n",
       "      <td>may congratulate sir election president forty ...</td>\n",
       "    </tr>\n",
       "    <tr>\n",
       "      <th>161</th>\n",
       "      <td>25</td>\n",
       "      <td>1970</td>\n",
       "      <td>USA</td>\n",
       "      <td>1.\\t It is my privilege to extend to you once ...</td>\n",
       "      <td>1 privilege extend warm congratulation united ...</td>\n",
       "    </tr>\n",
       "    <tr>\n",
       "      <th>...</th>\n",
       "      <td>...</td>\n",
       "      <td>...</td>\n",
       "      <td>...</td>\n",
       "      <td>...</td>\n",
       "      <td>...</td>\n",
       "    </tr>\n",
       "    <tr>\n",
       "      <th>7257</th>\n",
       "      <td>62</td>\n",
       "      <td>2007</td>\n",
       "      <td>RUS</td>\n",
       "      <td>Traditionally, the General Assembly sums up \\n...</td>\n",
       "      <td>traditionally general assembly sum result end ...</td>\n",
       "    </tr>\n",
       "    <tr>\n",
       "      <th>7277</th>\n",
       "      <td>62</td>\n",
       "      <td>2007</td>\n",
       "      <td>DEU</td>\n",
       "      <td>Please accept  my congratulations, Mr. Preside...</td>\n",
       "      <td>please accept congratulation mr president elec...</td>\n",
       "    </tr>\n",
       "    <tr>\n",
       "      <th>7369</th>\n",
       "      <td>56</td>\n",
       "      <td>2001</td>\n",
       "      <td>RUS</td>\n",
       "      <td>﻿This session of the General Assembly is\\ntaki...</td>\n",
       "      <td>session general assembly take place shadow unp...</td>\n",
       "    </tr>\n",
       "    <tr>\n",
       "      <th>7473</th>\n",
       "      <td>56</td>\n",
       "      <td>2001</td>\n",
       "      <td>DEU</td>\n",
       "      <td>﻿Only a few moments ago, we were informed of t...</td>\n",
       "      <td>moment ago inform crash commercial airliner fa...</td>\n",
       "    </tr>\n",
       "    <tr>\n",
       "      <th>7476</th>\n",
       "      <td>56</td>\n",
       "      <td>2001</td>\n",
       "      <td>USA</td>\n",
       "      <td>﻿We meet in a Hall devoted to\\npeace; in a cit...</td>\n",
       "      <td>meet hall devote peace city scar violence nati...</td>\n",
       "    </tr>\n",
       "  </tbody>\n",
       "</table>\n",
       "<p>152 rows × 5 columns</p>\n",
       "</div>"
      ],
      "text/plain": [
       "      session  year country  \\\n",
       "7          44  1989     RUS   \n",
       "110        44  1989     DEU   \n",
       "124        44  1989     USA   \n",
       "128        44  1989     DDR   \n",
       "161        25  1970     USA   \n",
       "...       ...   ...     ...   \n",
       "7257       62  2007     RUS   \n",
       "7277       62  2007     DEU   \n",
       "7369       56  2001     RUS   \n",
       "7473       56  2001     DEU   \n",
       "7476       56  2001     USA   \n",
       "\n",
       "                                                   text  \\\n",
       "7     ﻿My task as head of the delegation of the Sovi...   \n",
       "110   ﻿\\nI congratulate you, Sir, on your election a...   \n",
       "124   ﻿I am honoured to address the General Assembly...   \n",
       "128   ﻿May I congratulate you, Sir, on your election...   \n",
       "161   1.\\t It is my privilege to extend to you once ...   \n",
       "...                                                 ...   \n",
       "7257  Traditionally, the General Assembly sums up \\n...   \n",
       "7277  Please accept  my congratulations, Mr. Preside...   \n",
       "7369  ﻿This session of the General Assembly is\\ntaki...   \n",
       "7473  ﻿Only a few moments ago, we were informed of t...   \n",
       "7476  ﻿We meet in a Hall devoted to\\npeace; in a cit...   \n",
       "\n",
       "                                               document  \n",
       "7     task head delegation soviet union general asse...  \n",
       "110   congratulate sir election president general as...  \n",
       "124   honour address general assembly today beginnin...  \n",
       "128   may congratulate sir election president forty ...  \n",
       "161   1 privilege extend warm congratulation united ...  \n",
       "...                                                 ...  \n",
       "7257  traditionally general assembly sum result end ...  \n",
       "7277  please accept congratulation mr president elec...  \n",
       "7369  session general assembly take place shadow unp...  \n",
       "7473  moment ago inform crash commercial airliner fa...  \n",
       "7476  meet hall devote peace city scar violence nati...  \n",
       "\n",
       "[152 rows x 5 columns]"
      ]
     },
     "execution_count": 12,
     "metadata": {},
     "output_type": "execute_result"
    }
   ],
   "source": [
    "df"
   ]
  },
  {
   "cell_type": "code",
   "execution_count": 13,
   "metadata": {},
   "outputs": [],
   "source": [
    "df = df.reset_index(drop=True)"
   ]
  },
  {
   "cell_type": "code",
   "execution_count": 14,
   "metadata": {},
   "outputs": [
    {
     "data": {
      "text/html": [
       "<div>\n",
       "<style scoped>\n",
       "    .dataframe tbody tr th:only-of-type {\n",
       "        vertical-align: middle;\n",
       "    }\n",
       "\n",
       "    .dataframe tbody tr th {\n",
       "        vertical-align: top;\n",
       "    }\n",
       "\n",
       "    .dataframe thead th {\n",
       "        text-align: right;\n",
       "    }\n",
       "</style>\n",
       "<table border=\"1\" class=\"dataframe\">\n",
       "  <thead>\n",
       "    <tr style=\"text-align: right;\">\n",
       "      <th></th>\n",
       "      <th>session</th>\n",
       "      <th>year</th>\n",
       "      <th>country</th>\n",
       "      <th>text</th>\n",
       "      <th>document</th>\n",
       "    </tr>\n",
       "  </thead>\n",
       "  <tbody>\n",
       "    <tr>\n",
       "      <th>0</th>\n",
       "      <td>44</td>\n",
       "      <td>1989</td>\n",
       "      <td>RUS</td>\n",
       "      <td>﻿My task as head of the delegation of the Sovi...</td>\n",
       "      <td>task head delegation soviet union general asse...</td>\n",
       "    </tr>\n",
       "    <tr>\n",
       "      <th>1</th>\n",
       "      <td>44</td>\n",
       "      <td>1989</td>\n",
       "      <td>DEU</td>\n",
       "      <td>﻿\\nI congratulate you, Sir, on your election a...</td>\n",
       "      <td>congratulate sir election president general as...</td>\n",
       "    </tr>\n",
       "    <tr>\n",
       "      <th>2</th>\n",
       "      <td>44</td>\n",
       "      <td>1989</td>\n",
       "      <td>USA</td>\n",
       "      <td>﻿I am honoured to address the General Assembly...</td>\n",
       "      <td>honour address general assembly today beginnin...</td>\n",
       "    </tr>\n",
       "    <tr>\n",
       "      <th>3</th>\n",
       "      <td>44</td>\n",
       "      <td>1989</td>\n",
       "      <td>DDR</td>\n",
       "      <td>﻿May I congratulate you, Sir, on your election...</td>\n",
       "      <td>may congratulate sir election president forty ...</td>\n",
       "    </tr>\n",
       "    <tr>\n",
       "      <th>4</th>\n",
       "      <td>25</td>\n",
       "      <td>1970</td>\n",
       "      <td>USA</td>\n",
       "      <td>1.\\t It is my privilege to extend to you once ...</td>\n",
       "      <td>1 privilege extend warm congratulation united ...</td>\n",
       "    </tr>\n",
       "    <tr>\n",
       "      <th>...</th>\n",
       "      <td>...</td>\n",
       "      <td>...</td>\n",
       "      <td>...</td>\n",
       "      <td>...</td>\n",
       "      <td>...</td>\n",
       "    </tr>\n",
       "    <tr>\n",
       "      <th>147</th>\n",
       "      <td>62</td>\n",
       "      <td>2007</td>\n",
       "      <td>RUS</td>\n",
       "      <td>Traditionally, the General Assembly sums up \\n...</td>\n",
       "      <td>traditionally general assembly sum result end ...</td>\n",
       "    </tr>\n",
       "    <tr>\n",
       "      <th>148</th>\n",
       "      <td>62</td>\n",
       "      <td>2007</td>\n",
       "      <td>DEU</td>\n",
       "      <td>Please accept  my congratulations, Mr. Preside...</td>\n",
       "      <td>please accept congratulation mr president elec...</td>\n",
       "    </tr>\n",
       "    <tr>\n",
       "      <th>149</th>\n",
       "      <td>56</td>\n",
       "      <td>2001</td>\n",
       "      <td>RUS</td>\n",
       "      <td>﻿This session of the General Assembly is\\ntaki...</td>\n",
       "      <td>session general assembly take place shadow unp...</td>\n",
       "    </tr>\n",
       "    <tr>\n",
       "      <th>150</th>\n",
       "      <td>56</td>\n",
       "      <td>2001</td>\n",
       "      <td>DEU</td>\n",
       "      <td>﻿Only a few moments ago, we were informed of t...</td>\n",
       "      <td>moment ago inform crash commercial airliner fa...</td>\n",
       "    </tr>\n",
       "    <tr>\n",
       "      <th>151</th>\n",
       "      <td>56</td>\n",
       "      <td>2001</td>\n",
       "      <td>USA</td>\n",
       "      <td>﻿We meet in a Hall devoted to\\npeace; in a cit...</td>\n",
       "      <td>meet hall devote peace city scar violence nati...</td>\n",
       "    </tr>\n",
       "  </tbody>\n",
       "</table>\n",
       "<p>152 rows × 5 columns</p>\n",
       "</div>"
      ],
      "text/plain": [
       "     session  year country                                               text  \\\n",
       "0         44  1989     RUS  ﻿My task as head of the delegation of the Sovi...   \n",
       "1         44  1989     DEU  ﻿\\nI congratulate you, Sir, on your election a...   \n",
       "2         44  1989     USA  ﻿I am honoured to address the General Assembly...   \n",
       "3         44  1989     DDR  ﻿May I congratulate you, Sir, on your election...   \n",
       "4         25  1970     USA  1.\\t It is my privilege to extend to you once ...   \n",
       "..       ...   ...     ...                                                ...   \n",
       "147       62  2007     RUS  Traditionally, the General Assembly sums up \\n...   \n",
       "148       62  2007     DEU  Please accept  my congratulations, Mr. Preside...   \n",
       "149       56  2001     RUS  ﻿This session of the General Assembly is\\ntaki...   \n",
       "150       56  2001     DEU  ﻿Only a few moments ago, we were informed of t...   \n",
       "151       56  2001     USA  ﻿We meet in a Hall devoted to\\npeace; in a cit...   \n",
       "\n",
       "                                              document  \n",
       "0    task head delegation soviet union general asse...  \n",
       "1    congratulate sir election president general as...  \n",
       "2    honour address general assembly today beginnin...  \n",
       "3    may congratulate sir election president forty ...  \n",
       "4    1 privilege extend warm congratulation united ...  \n",
       "..                                                 ...  \n",
       "147  traditionally general assembly sum result end ...  \n",
       "148  please accept congratulation mr president elec...  \n",
       "149  session general assembly take place shadow unp...  \n",
       "150  moment ago inform crash commercial airliner fa...  \n",
       "151  meet hall devote peace city scar violence nati...  \n",
       "\n",
       "[152 rows x 5 columns]"
      ]
     },
     "execution_count": 14,
     "metadata": {},
     "output_type": "execute_result"
    }
   ],
   "source": [
    "df"
   ]
  },
  {
   "cell_type": "markdown",
   "metadata": {},
   "source": [
    "## Exercise 1 - Write a function to conduct the Sentiment Analysis\n",
    "\n",
    "**Note:** Below, I provide a sentiment anaylsis in german."
   ]
  },
  {
   "cell_type": "code",
   "execution_count": 15,
   "metadata": {},
   "outputs": [
    {
     "name": "stdout",
     "output_type": "stream",
     "text": [
      "WARNING:tensorflow:From C:\\Users\\Maximilian Andres\\AppData\\Local\\Programs\\Python\\Python312\\Lib\\site-packages\\tf_keras\\src\\losses.py:2976: The name tf.losses.sparse_softmax_cross_entropy is deprecated. Please use tf.compat.v1.losses.sparse_softmax_cross_entropy instead.\n",
      "\n"
     ]
    }
   ],
   "source": [
    "#sentiment_pipeline = pipeline(\"sentiment-analysis\",model=\"siebert/sentiment-roberta-large-english\")\n",
    "sentiment_pipeline = pipeline(\"sentiment-analysis\",model=\"distilbert-base-uncased-finetuned-sst-2-english\")\n",
    "\n",
    "# Function to get sentiment probabilities\n",
    "def sentiment_analysis(text):\n",
    "    # Get the sentiment analysis results\n",
    "    results = sentiment_pipeline(text)\n",
    "    \n",
    "    # Initialize a dictionary to store probabilities. Note, in the model, the focus is on the positive sentiment.\n",
    "    sentiment_probabilities = {\"positive\": 0.0, \"neutral\": 0.0, \"negative\": 0.0}\n",
    "    \n",
    "    # Map the results to our dictionary\n",
    "    for result in results:\n",
    "        label = result['label'].lower()\n",
    "        if label == 'positive':\n",
    "            sentiment_probabilities['positive'] = result['score']\n",
    "        elif label == 'negative':\n",
    "            sentiment_probabilities['negative'] = result['score']\n",
    "        else:\n",
    "            sentiment_probabilities['neutral'] = result['score']    \n",
    "    \n",
    "    return sentiment_probabilities"
   ]
  },
  {
   "cell_type": "code",
   "execution_count": 16,
   "metadata": {},
   "outputs": [],
   "source": [
    "# Function to get sentiment probabilities\n",
    "def sentiment_analysis_english(statements):\n",
    "    \n",
    "    #define the results\n",
    "    positive = []\n",
    "    neutral = []\n",
    "    negative = []\n",
    "    \n",
    "    #compute the results\n",
    "    for i in range(0,len(statements)):\n",
    "        probabilities = sentiment_analysis(statements[i][:500])\n",
    "        positive.append(probabilities['positive'])\n",
    "        neutral.append(probabilities['neutral'])\n",
    "        negative.append(probabilities['negative'])   \n",
    "    \n",
    "    #return the data frame\n",
    "    sentiment = pd.DataFrame({'positive': positive, 'neutral': neutral, 'negative': negative})\n",
    "    \n",
    "    return sentiment"
   ]
  },
  {
   "cell_type": "markdown",
   "metadata": {},
   "source": [
    "Sentiment anaylsis in german for your term paper"
   ]
  },
  {
   "cell_type": "code",
   "execution_count": 17,
   "metadata": {},
   "outputs": [],
   "source": [
    "def sentiment_analysis_german(statements):\n",
    "    \n",
    "    \"\"\"\n",
    "    \n",
    "    This function returns the probabilities, classes and class_val for each document\n",
    "    \n",
    "    \"\"\"\n",
    "    \n",
    "    #build the model\n",
    "    model = SentimentModel()\n",
    "    \n",
    "    #predict the sentiments using BERT\n",
    "    classes, probabilities = model.predict_sentiment(statements.to_list(), output_probabilities = True)\n",
    "    \n",
    "    #assign the probabilities\n",
    "    sentiment = pd.DataFrame(probabilities)\n",
    "    \n",
    "    #get the probabilities\n",
    "    sentiment.loc[:,\"positive\"] = [sentiment.loc[i,0][1] for i in range(0, len(sentiment))]\n",
    "    sentiment.loc[:,\"negative\"] = [sentiment.loc[i,1][1] for i in range(0, len(sentiment))]\n",
    "    sentiment.loc[:,\"neutral\"] = [sentiment.loc[i,2][1] for i in range(0, len(sentiment))]\n",
    "        \n",
    "    #get the class\n",
    "    sentiment.loc[:,\"class\"] = classes\n",
    "    \n",
    "    #get the class vals\n",
    "    class_list = []\n",
    "\n",
    "    for i in range(0, len(sentiment)):\n",
    "        value = sentiment.loc[i, \"class\"]\n",
    "        if value == \"negative\":\n",
    "            class_list.append(-1)\n",
    "        elif value == \"positive\":\n",
    "            class_list.append(1)\n",
    "        else:\n",
    "            class_list.append(0)\n",
    "\n",
    "    sentiment.loc[:,\"class_val\"] = class_list\n",
    "    \n",
    "    #return df without the sentiment list columns\n",
    "    return sentiment.iloc[:, 3:(sentiment.shape[1])]\n",
    "    "
   ]
  },
  {
   "cell_type": "markdown",
   "metadata": {},
   "source": [
    "## Exercise 3 - Conduct the Sentiment Analysis and concat the data"
   ]
  },
  {
   "cell_type": "markdown",
   "metadata": {},
   "source": [
    "Not it's time to conduct the sentiment analysis."
   ]
  },
  {
   "cell_type": "code",
   "execution_count": 18,
   "metadata": {},
   "outputs": [],
   "source": [
    "sentiment = sentiment_analysis_english(df['document'])"
   ]
  },
  {
   "cell_type": "code",
   "execution_count": 19,
   "metadata": {},
   "outputs": [
    {
     "name": "stdout",
     "output_type": "stream",
     "text": [
      "<class 'pandas.core.frame.DataFrame'>\n",
      "RangeIndex: 152 entries, 0 to 151\n",
      "Data columns (total 3 columns):\n",
      " #   Column    Non-Null Count  Dtype  \n",
      "---  ------    --------------  -----  \n",
      " 0   positive  152 non-null    float64\n",
      " 1   neutral   152 non-null    float64\n",
      " 2   negative  152 non-null    float64\n",
      "dtypes: float64(3)\n",
      "memory usage: 3.7 KB\n"
     ]
    }
   ],
   "source": [
    "sentiment.info()"
   ]
  },
  {
   "cell_type": "code",
   "execution_count": 20,
   "metadata": {},
   "outputs": [
    {
     "data": {
      "text/html": [
       "<div>\n",
       "<style scoped>\n",
       "    .dataframe tbody tr th:only-of-type {\n",
       "        vertical-align: middle;\n",
       "    }\n",
       "\n",
       "    .dataframe tbody tr th {\n",
       "        vertical-align: top;\n",
       "    }\n",
       "\n",
       "    .dataframe thead th {\n",
       "        text-align: right;\n",
       "    }\n",
       "</style>\n",
       "<table border=\"1\" class=\"dataframe\">\n",
       "  <thead>\n",
       "    <tr style=\"text-align: right;\">\n",
       "      <th></th>\n",
       "      <th>positive</th>\n",
       "      <th>neutral</th>\n",
       "      <th>negative</th>\n",
       "    </tr>\n",
       "  </thead>\n",
       "  <tbody>\n",
       "    <tr>\n",
       "      <th>0</th>\n",
       "      <td>0.998531</td>\n",
       "      <td>0.0</td>\n",
       "      <td>0.0</td>\n",
       "    </tr>\n",
       "    <tr>\n",
       "      <th>1</th>\n",
       "      <td>0.997747</td>\n",
       "      <td>0.0</td>\n",
       "      <td>0.0</td>\n",
       "    </tr>\n",
       "    <tr>\n",
       "      <th>2</th>\n",
       "      <td>0.984830</td>\n",
       "      <td>0.0</td>\n",
       "      <td>0.0</td>\n",
       "    </tr>\n",
       "    <tr>\n",
       "      <th>3</th>\n",
       "      <td>0.945445</td>\n",
       "      <td>0.0</td>\n",
       "      <td>0.0</td>\n",
       "    </tr>\n",
       "    <tr>\n",
       "      <th>4</th>\n",
       "      <td>0.995857</td>\n",
       "      <td>0.0</td>\n",
       "      <td>0.0</td>\n",
       "    </tr>\n",
       "  </tbody>\n",
       "</table>\n",
       "</div>"
      ],
      "text/plain": [
       "   positive  neutral  negative\n",
       "0  0.998531      0.0       0.0\n",
       "1  0.997747      0.0       0.0\n",
       "2  0.984830      0.0       0.0\n",
       "3  0.945445      0.0       0.0\n",
       "4  0.995857      0.0       0.0"
      ]
     },
     "execution_count": 20,
     "metadata": {},
     "output_type": "execute_result"
    }
   ],
   "source": [
    "sentiment.head()"
   ]
  },
  {
   "cell_type": "code",
   "execution_count": 21,
   "metadata": {},
   "outputs": [
    {
     "data": {
      "text/html": [
       "<div>\n",
       "<style scoped>\n",
       "    .dataframe tbody tr th:only-of-type {\n",
       "        vertical-align: middle;\n",
       "    }\n",
       "\n",
       "    .dataframe tbody tr th {\n",
       "        vertical-align: top;\n",
       "    }\n",
       "\n",
       "    .dataframe thead th {\n",
       "        text-align: right;\n",
       "    }\n",
       "</style>\n",
       "<table border=\"1\" class=\"dataframe\">\n",
       "  <thead>\n",
       "    <tr style=\"text-align: right;\">\n",
       "      <th></th>\n",
       "      <th>positive</th>\n",
       "      <th>neutral</th>\n",
       "      <th>negative</th>\n",
       "    </tr>\n",
       "  </thead>\n",
       "  <tbody>\n",
       "    <tr>\n",
       "      <th>count</th>\n",
       "      <td>152.000000</td>\n",
       "      <td>152.0</td>\n",
       "      <td>152.000000</td>\n",
       "    </tr>\n",
       "    <tr>\n",
       "      <th>mean</th>\n",
       "      <td>0.857405</td>\n",
       "      <td>0.0</td>\n",
       "      <td>0.094768</td>\n",
       "    </tr>\n",
       "    <tr>\n",
       "      <th>std</th>\n",
       "      <td>0.311047</td>\n",
       "      <td>0.0</td>\n",
       "      <td>0.272154</td>\n",
       "    </tr>\n",
       "    <tr>\n",
       "      <th>min</th>\n",
       "      <td>0.000000</td>\n",
       "      <td>0.0</td>\n",
       "      <td>0.000000</td>\n",
       "    </tr>\n",
       "    <tr>\n",
       "      <th>25%</th>\n",
       "      <td>0.937842</td>\n",
       "      <td>0.0</td>\n",
       "      <td>0.000000</td>\n",
       "    </tr>\n",
       "    <tr>\n",
       "      <th>50%</th>\n",
       "      <td>0.986735</td>\n",
       "      <td>0.0</td>\n",
       "      <td>0.000000</td>\n",
       "    </tr>\n",
       "    <tr>\n",
       "      <th>75%</th>\n",
       "      <td>0.995827</td>\n",
       "      <td>0.0</td>\n",
       "      <td>0.000000</td>\n",
       "    </tr>\n",
       "    <tr>\n",
       "      <th>max</th>\n",
       "      <td>0.999392</td>\n",
       "      <td>0.0</td>\n",
       "      <td>0.979528</td>\n",
       "    </tr>\n",
       "  </tbody>\n",
       "</table>\n",
       "</div>"
      ],
      "text/plain": [
       "         positive  neutral    negative\n",
       "count  152.000000    152.0  152.000000\n",
       "mean     0.857405      0.0    0.094768\n",
       "std      0.311047      0.0    0.272154\n",
       "min      0.000000      0.0    0.000000\n",
       "25%      0.937842      0.0    0.000000\n",
       "50%      0.986735      0.0    0.000000\n",
       "75%      0.995827      0.0    0.000000\n",
       "max      0.999392      0.0    0.979528"
      ]
     },
     "execution_count": 21,
     "metadata": {},
     "output_type": "execute_result"
    }
   ],
   "source": [
    "sentiment.describe()"
   ]
  },
  {
   "cell_type": "markdown",
   "metadata": {},
   "source": [
    "concat the data"
   ]
  },
  {
   "cell_type": "code",
   "execution_count": 22,
   "metadata": {},
   "outputs": [],
   "source": [
    "df = pd.concat([df,sentiment], axis=1)"
   ]
  },
  {
   "cell_type": "code",
   "execution_count": 23,
   "metadata": {},
   "outputs": [
    {
     "name": "stdout",
     "output_type": "stream",
     "text": [
      "<class 'pandas.core.frame.DataFrame'>\n",
      "RangeIndex: 152 entries, 0 to 151\n",
      "Data columns (total 8 columns):\n",
      " #   Column    Non-Null Count  Dtype  \n",
      "---  ------    --------------  -----  \n",
      " 0   session   152 non-null    int64  \n",
      " 1   year      152 non-null    int64  \n",
      " 2   country   152 non-null    object \n",
      " 3   text      152 non-null    object \n",
      " 4   document  152 non-null    object \n",
      " 5   positive  152 non-null    float64\n",
      " 6   neutral   152 non-null    float64\n",
      " 7   negative  152 non-null    float64\n",
      "dtypes: float64(3), int64(2), object(3)\n",
      "memory usage: 9.6+ KB\n"
     ]
    }
   ],
   "source": [
    "df.info()"
   ]
  },
  {
   "cell_type": "markdown",
   "metadata": {},
   "source": [
    "## Exercise 4 - Vizualize the Sentiment Analysis"
   ]
  },
  {
   "cell_type": "markdown",
   "metadata": {},
   "source": [
    "Now, it's time to visualize the results.\n",
    "\n",
    "Visualize the sentiment."
   ]
  },
  {
   "cell_type": "code",
   "execution_count": 24,
   "metadata": {},
   "outputs": [
    {
     "data": {
      "text/plain": [
       "<Axes: xlabel='year', ylabel='positive'>"
      ]
     },
     "execution_count": 24,
     "metadata": {},
     "output_type": "execute_result"
    },
    {
     "data": {
      "image/png": "[encoded data removed]",
      "text/plain": [
       "<Figure size 640x480 with 1 Axes>"
      ]
     },
     "metadata": {},
     "output_type": "display_data"
    }
   ],
   "source": [
    "sns.lineplot(data=df.dropna().groupby(['year', 'country'])['positive'].mean().reset_index(), \n",
    "             x='year', \n",
    "             y='positive', \n",
    "             hue='country')"
   ]
  },
  {
   "cell_type": "markdown",
   "metadata": {},
   "source": [
    "## Exercise 4 - Save the Data Frame"
   ]
  },
  {
   "cell_type": "markdown",
   "metadata": {},
   "source": [
    "Save the data as 06.1 un-general-debates"
   ]
  },
  {
   "cell_type": "code",
   "execution_count": 25,
   "metadata": {},
   "outputs": [],
   "source": [
    "#excelfilename = \"Data/06.1 un-general-debates.csv\"\n",
    "#df.to_csv(excelfilename,index=False)"
   ]
  },
  {
   "cell_type": "code",
   "execution_count": null,
   "metadata": {},
   "outputs": [],
   "source": []
  }
 ],
 "metadata": {
  "kernelspec": {
   "display_name": "Python 3 (ipykernel)",
   "language": "python",
   "name": "python3"
  },
  "language_info": {
   "codemirror_mode": {
    "name": "ipython",
    "version": 3
   },
   "file_extension": ".py",
   "mimetype": "text/x-python",
   "name": "python",
   "nbconvert_exporter": "python",
   "pygments_lexer": "ipython3",
   "version": "3.12.4"
  }
 },
 "nbformat": 4,
 "nbformat_minor": 4
}
