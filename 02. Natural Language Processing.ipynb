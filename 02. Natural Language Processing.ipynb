{
 "cells": [
  {
   "cell_type": "markdown",
   "metadata": {},
   "source": [
    "# Natural Language Processing - Solutions\n",
    "\n",
    "In this tutorial we will be working with the transcriptions of general debates at the United Nations from 1970 to 2016. We will try to see whether the fall of the iron curtain changed the debates.\n",
    "\n",
    "This data set contains the following features:\n",
    "\n",
    "* 'session': the UN session. There is one session per year, and the data in this dataset ranges from session 25 to session 71.\n",
    "* 'year': The year of the session, from 1970 to 2016\n",
    "* 'country': The representative’s country, as an ISO 3166 Alpha-3 country code (more information: https://www.iso.org/iso-3166-country-codes.html).\n",
    "* 'text': The complete text of that country’s statement in the general debate from that year, with OCR page numbers removed."
   ]
  },
  {
   "cell_type": "markdown",
   "metadata": {},
   "source": [
    "## Packages"
   ]
  },
  {
   "cell_type": "code",
   "execution_count": 1,
   "metadata": {},
   "outputs": [],
   "source": [
    "InstallPackages = False\n",
    "if InstallPackages:\n",
    "    import sys\n",
    "    !pip install pandas\n",
    "    !pip install nltk\n",
    "    !pip install spacy\n",
    "    !pip install numpy"
   ]
  },
  {
   "cell_type": "code",
   "execution_count": 2,
   "metadata": {},
   "outputs": [],
   "source": [
    "import pandas as pd\n",
    "import numpy as np\n",
    "import nltk\n",
    "from nltk import ngrams\n",
    "from nltk.corpus import stopwords\n",
    "import re\n",
    "import spacy"
   ]
  },
  {
   "cell_type": "code",
   "execution_count": 3,
   "metadata": {},
   "outputs": [],
   "source": [
    "DownloadAdditions = False\n",
    "if DownloadAdditions:\n",
    "    nltk.download('stopwords')\n",
    "    spacy.cli.download('en_core_web_sm')#de_core_news_sm #de_core_news_md"
   ]
  },
  {
   "cell_type": "code",
   "execution_count": 4,
   "metadata": {},
   "outputs": [],
   "source": [
    "nlp = spacy.load('en_core_web_sm')"
   ]
  },
  {
   "cell_type": "markdown",
   "metadata": {},
   "source": [
    "## Read the Data\n",
    "Read in the 02.1 un-general-debates.csv file and set it to a data frame called df."
   ]
  },
  {
   "cell_type": "code",
   "execution_count": 5,
   "metadata": {},
   "outputs": [],
   "source": [
    "df = pd.read_csv('Data/02.1 un-general-debates.csv')"
   ]
  },
  {
   "cell_type": "markdown",
   "metadata": {},
   "source": [
    "Use info on df"
   ]
  },
  {
   "cell_type": "code",
   "execution_count": 6,
   "metadata": {},
   "outputs": [
    {
     "name": "stdout",
     "output_type": "stream",
     "text": [
      "<class 'pandas.core.frame.DataFrame'>\n",
      "RangeIndex: 7507 entries, 0 to 7506\n",
      "Data columns (total 4 columns):\n",
      " #   Column   Non-Null Count  Dtype \n",
      "---  ------   --------------  ----- \n",
      " 0   session  7507 non-null   int64 \n",
      " 1   year     7507 non-null   int64 \n",
      " 2   country  7507 non-null   object\n",
      " 3   text     7507 non-null   object\n",
      "dtypes: int64(2), object(2)\n",
      "memory usage: 234.7+ KB\n"
     ]
    }
   ],
   "source": [
    "df.info()"
   ]
  },
  {
   "cell_type": "markdown",
   "metadata": {},
   "source": [
    "Check the head of ad_data"
   ]
  },
  {
   "cell_type": "code",
   "execution_count": 7,
   "metadata": {},
   "outputs": [
    {
     "data": {
      "text/html": [
       "<div>\n",
       "<style scoped>\n",
       "    .dataframe tbody tr th:only-of-type {\n",
       "        vertical-align: middle;\n",
       "    }\n",
       "\n",
       "    .dataframe tbody tr th {\n",
       "        vertical-align: top;\n",
       "    }\n",
       "\n",
       "    .dataframe thead th {\n",
       "        text-align: right;\n",
       "    }\n",
       "</style>\n",
       "<table border=\"1\" class=\"dataframe\">\n",
       "  <thead>\n",
       "    <tr style=\"text-align: right;\">\n",
       "      <th></th>\n",
       "      <th>session</th>\n",
       "      <th>year</th>\n",
       "      <th>country</th>\n",
       "      <th>text</th>\n",
       "    </tr>\n",
       "  </thead>\n",
       "  <tbody>\n",
       "    <tr>\n",
       "      <th>0</th>\n",
       "      <td>44</td>\n",
       "      <td>1989</td>\n",
       "      <td>MDV</td>\n",
       "      <td>﻿It is indeed a pleasure for me and the member...</td>\n",
       "    </tr>\n",
       "    <tr>\n",
       "      <th>1</th>\n",
       "      <td>44</td>\n",
       "      <td>1989</td>\n",
       "      <td>FIN</td>\n",
       "      <td>﻿\\nMay I begin by congratulating you. Sir, on ...</td>\n",
       "    </tr>\n",
       "    <tr>\n",
       "      <th>2</th>\n",
       "      <td>44</td>\n",
       "      <td>1989</td>\n",
       "      <td>NER</td>\n",
       "      <td>﻿\\nMr. President, it is a particular pleasure ...</td>\n",
       "    </tr>\n",
       "    <tr>\n",
       "      <th>3</th>\n",
       "      <td>44</td>\n",
       "      <td>1989</td>\n",
       "      <td>URY</td>\n",
       "      <td>﻿\\nDuring the debate at the fortieth session o...</td>\n",
       "    </tr>\n",
       "    <tr>\n",
       "      <th>4</th>\n",
       "      <td>44</td>\n",
       "      <td>1989</td>\n",
       "      <td>ZWE</td>\n",
       "      <td>﻿I should like at the outset to express my del...</td>\n",
       "    </tr>\n",
       "  </tbody>\n",
       "</table>\n",
       "</div>"
      ],
      "text/plain": [
       "   session  year country                                               text\n",
       "0       44  1989     MDV  ﻿It is indeed a pleasure for me and the member...\n",
       "1       44  1989     FIN  ﻿\\nMay I begin by congratulating you. Sir, on ...\n",
       "2       44  1989     NER  ﻿\\nMr. President, it is a particular pleasure ...\n",
       "3       44  1989     URY  ﻿\\nDuring the debate at the fortieth session o...\n",
       "4       44  1989     ZWE  ﻿I should like at the outset to express my del..."
      ]
     },
     "execution_count": 7,
     "metadata": {},
     "output_type": "execute_result"
    }
   ],
   "source": [
    "df.head()"
   ]
  },
  {
   "cell_type": "markdown",
   "metadata": {},
   "source": [
    "## Exercise 1 - Write a function to pre-process the general debates\n",
    "\n",
    "*Hint 1:* You may write a function to lemmatize the general debates\n",
    "\n",
    "*Hint 2:* You may write a function to correct spelling mistakes in the general debates\n",
    "\n",
    "*Hint 3:* You may write a pre-processing functioning using those function\n"
   ]
  },
  {
   "cell_type": "markdown",
   "metadata": {},
   "source": [
    "Lemmatization"
   ]
  },
  {
   "cell_type": "code",
   "execution_count": 8,
   "metadata": {},
   "outputs": [],
   "source": [
    "def lemmatize(statement):\n",
    "    \n",
    "    \"\"\"\n",
    "    This function is used to lemmatize the corpus. \n",
    "    \n",
    "    \"\"\"\n",
    "    \n",
    "    #define strings which should not be lemmatized\n",
    "    donotlemmatize = {}#{'A','B'}\n",
    "    \n",
    "    #process the corpus using spaCy\n",
    "    doc = nlp(statement)\n",
    "    \n",
    "    #lemmatize the corpus\n",
    "    lemmas = [token.text.lower() if token.text in donotlemmatize else token.lemma_.lower() for token in doc]\n",
    "    \n",
    "    return lemmas\n",
    "    "
   ]
  },
  {
   "cell_type": "markdown",
   "metadata": {},
   "source": [
    "Correction function"
   ]
  },
  {
   "cell_type": "code",
   "execution_count": 9,
   "metadata": {},
   "outputs": [],
   "source": [
    "def correction_all(statement):\n",
    "    \n",
    "    \"\"\"\n",
    "    This function corrects spelling mistake.\n",
    "    \n",
    "    \"\"\"\n",
    "    # This corrects spelling mistakes                                                                                                            #ID\n",
    "    #statement = statement.apply(lambda x: \"\".join(re.sub(r'\\b20\\b', ' ', x)))\n",
    "\n",
    "    return statement       "
   ]
  },
  {
   "cell_type": "markdown",
   "metadata": {},
   "source": [
    "Pre-processing function"
   ]
  },
  {
   "cell_type": "code",
   "execution_count": 10,
   "metadata": {},
   "outputs": [],
   "source": [
    "def preprocess(docs):\n",
    "    \n",
    "    \"\"\"\n",
    "    \n",
    "    This function is used to preprocess the corpus: remove special characters, lemmatize, remove stopwords and correction.\n",
    "    \n",
    "    \"\"\"\n",
    "        \n",
    "    #spelling correction of strings\n",
    "    docs = correction_all(docs)\n",
    "    \n",
    "    #define strings which should not be stopwords\n",
    "    nostopwords = {''}#{'A', 'B','a', 'b','X', 'Y','x','y'}\n",
    "    \n",
    "    #create list of stop words\n",
    "    stop_words = list(set(stopwords.words('english'))-nostopwords)\n",
    "    \n",
    "    #remove special characters which are not german umlaute\n",
    "    docs = docs.apply(lambda x: \"\".join(re.sub(r'[^ \\nA-Za-z0-9À-ÖØ-öø-ÿ/]+', ' ', x)))\n",
    "    \n",
    "    #lemmatize strings\n",
    "    docs = docs.apply(lambda x: \" \".join(lemmatize(x)))\n",
    "    \n",
    "    #remove stopwords\n",
    "    docs = docs.apply(lambda x: \" \".join(x for x in str(x).split() if x not in stop_words))\n",
    "\n",
    "    \n",
    "    return docs"
   ]
  },
  {
   "cell_type": "markdown",
   "metadata": {},
   "source": [
    "## Exercise 2 - Pre-Process the General Debates"
   ]
  },
  {
   "cell_type": "markdown",
   "metadata": {},
   "source": [
    "Not it's time to pre-process the gernal debates."
   ]
  },
  {
   "cell_type": "code",
   "execution_count": 11,
   "metadata": {},
   "outputs": [],
   "source": [
    "df['document'] = preprocess(df['text'].astype(str))"
   ]
  },
  {
   "cell_type": "code",
   "execution_count": 12,
   "metadata": {},
   "outputs": [
    {
     "name": "stdout",
     "output_type": "stream",
     "text": [
      "<class 'pandas.core.frame.DataFrame'>\n",
      "RangeIndex: 7507 entries, 0 to 7506\n",
      "Data columns (total 5 columns):\n",
      " #   Column    Non-Null Count  Dtype \n",
      "---  ------    --------------  ----- \n",
      " 0   session   7507 non-null   int64 \n",
      " 1   year      7507 non-null   int64 \n",
      " 2   country   7507 non-null   object\n",
      " 3   text      7507 non-null   object\n",
      " 4   document  7507 non-null   object\n",
      "dtypes: int64(2), object(3)\n",
      "memory usage: 293.4+ KB\n"
     ]
    }
   ],
   "source": [
    "df.info()"
   ]
  },
  {
   "cell_type": "code",
   "execution_count": 13,
   "metadata": {},
   "outputs": [
    {
     "data": {
      "text/html": [
       "<div>\n",
       "<style scoped>\n",
       "    .dataframe tbody tr th:only-of-type {\n",
       "        vertical-align: middle;\n",
       "    }\n",
       "\n",
       "    .dataframe tbody tr th {\n",
       "        vertical-align: top;\n",
       "    }\n",
       "\n",
       "    .dataframe thead th {\n",
       "        text-align: right;\n",
       "    }\n",
       "</style>\n",
       "<table border=\"1\" class=\"dataframe\">\n",
       "  <thead>\n",
       "    <tr style=\"text-align: right;\">\n",
       "      <th></th>\n",
       "      <th>session</th>\n",
       "      <th>year</th>\n",
       "      <th>country</th>\n",
       "      <th>text</th>\n",
       "      <th>document</th>\n",
       "    </tr>\n",
       "  </thead>\n",
       "  <tbody>\n",
       "    <tr>\n",
       "      <th>0</th>\n",
       "      <td>44</td>\n",
       "      <td>1989</td>\n",
       "      <td>MDV</td>\n",
       "      <td>﻿It is indeed a pleasure for me and the member...</td>\n",
       "      <td>indeed pleasure member delegation extend ambas...</td>\n",
       "    </tr>\n",
       "    <tr>\n",
       "      <th>1</th>\n",
       "      <td>44</td>\n",
       "      <td>1989</td>\n",
       "      <td>FIN</td>\n",
       "      <td>﻿\\nMay I begin by congratulating you. Sir, on ...</td>\n",
       "      <td>may begin congratulate sir election presidency...</td>\n",
       "    </tr>\n",
       "    <tr>\n",
       "      <th>2</th>\n",
       "      <td>44</td>\n",
       "      <td>1989</td>\n",
       "      <td>NER</td>\n",
       "      <td>﻿\\nMr. President, it is a particular pleasure ...</td>\n",
       "      <td>mr president particular pleasure behalf delega...</td>\n",
       "    </tr>\n",
       "    <tr>\n",
       "      <th>3</th>\n",
       "      <td>44</td>\n",
       "      <td>1989</td>\n",
       "      <td>URY</td>\n",
       "      <td>﻿\\nDuring the debate at the fortieth session o...</td>\n",
       "      <td>debate fortieth session general assembly four ...</td>\n",
       "    </tr>\n",
       "    <tr>\n",
       "      <th>4</th>\n",
       "      <td>44</td>\n",
       "      <td>1989</td>\n",
       "      <td>ZWE</td>\n",
       "      <td>﻿I should like at the outset to express my del...</td>\n",
       "      <td>like outset express delegation satisfaction pl...</td>\n",
       "    </tr>\n",
       "  </tbody>\n",
       "</table>\n",
       "</div>"
      ],
      "text/plain": [
       "   session  year country                                               text  \\\n",
       "0       44  1989     MDV  ﻿It is indeed a pleasure for me and the member...   \n",
       "1       44  1989     FIN  ﻿\\nMay I begin by congratulating you. Sir, on ...   \n",
       "2       44  1989     NER  ﻿\\nMr. President, it is a particular pleasure ...   \n",
       "3       44  1989     URY  ﻿\\nDuring the debate at the fortieth session o...   \n",
       "4       44  1989     ZWE  ﻿I should like at the outset to express my del...   \n",
       "\n",
       "                                            document  \n",
       "0  indeed pleasure member delegation extend ambas...  \n",
       "1  may begin congratulate sir election presidency...  \n",
       "2  mr president particular pleasure behalf delega...  \n",
       "3  debate fortieth session general assembly four ...  \n",
       "4  like outset express delegation satisfaction pl...  "
      ]
     },
     "execution_count": 13,
     "metadata": {},
     "output_type": "execute_result"
    }
   ],
   "source": [
    "df.head()"
   ]
  },
  {
   "cell_type": "code",
   "execution_count": 14,
   "metadata": {},
   "outputs": [
    {
     "data": {
      "text/plain": [
       "\"\\ufeffBefore you began to occupy that exalted seat, Mr. President, you were already discharging a noble international mandate, having presided for years over the Special Committee against Apartheid. Under your direction, the global counterattack against that insult to the race of man has gained signal victories. And now, there you are, Mr. President, a friend of the Filipinos, who visited us in 1987, a friend of our late martyr, Ninoy Aquino, having worked with him at Harvard. We Filipinos rejoice that it is you who will preside over this body of nations for the next 365 days.\\nAnd to Mr. Dante Caputo, the former Foreign Minister of Argentina, let me say how much our prediction of success for his presidency last year has been proved correct. His expert hand steered us through the proceedings without conflict, without incident, without delay. We had faith in him as an outstanding human leader, and he justified that faith.\\nFilipinos can take added pride in the fact that Dante Caputo, our successful outgoing President, is a man who, like us, has his roots in the world of Hispanic culture.\\nLast year, I came to this rostrum to bring the Assembly a message from the poor of my country. I said that they are poor not because they come from an indolent race. For, I said, our countrymen now cover the earths 2 million of us in the Americas, half a million in the Middle East, a quarter of a million in Europe, half a million in Asia and the Pacific - seekers all of toil and life, teachers of nations, physicians of men, builders of industry, designers of modules that challenge the stars and settle on the moon, men and women of skill and diligence, like those of Europe who settled America and here built a new world. I said they are poor not because they do not know how to fight for their rights. For they were the first in Asia to shed their blood against Western colonialism and produce their own republic. Ninety years later, they were the first nation in the world to mass by the millions to confront guns with rosaries and bring down a dictator without the shedding of blood. In those four bloodless, spectacular days of February they raised, under Corazon C. Aquino, the new peaceful rallying cry of people power, which even now is resonating, sometimes unsuccessfully, always gloriously, in the streets of nations in transition on more than one continent of this earth.\\nI said they are poor not because they multiply too fast. And they know that in rich nations it is the building of cities and industries, not the extermination of human instincts, that has reduced this multiplication.\\nI said they are poor not because their nation does not grow. For our country does grow. Now that we are free again, although we remain harassed by the extremes of right and left, we have kept to our democratic course and our economy is growing again: last year by 6.8 per cent, last semester by 5.3 per cent.\\nThey are poor, I said, because they have inherited an external debt from the dictator - now $30 billion - and in order to service it their country must divert about 20 per cent of its annual budget and send out annually $1.7 billion more than it receives. All these years the countries of the North have insisted that one may not talk of debt relief beyond the boardrooms of the International Monetary Fund (IMF) and the World Bank. Yet international debt forgiveness became a reality just about the time the IMF and the World Bank were born, for both these institutions were conceived by the same bold, victorious, visionary leadership that, remembering the stubborn mistake in 1919 at Versailles, forgave in 1947, in London, 70 per cent of the German debt. And so I called last year for the formation of an international debt and development commission in order to recapture that original vision. The Group of 77 responded quickly, and two resolutions were drafted. The first called on the Secretary-General of the United Nations to continue using his high offices towards a common understanding on a solution to the international external debt. That resolution was passed by the forty-third session of the General Assembly with only one member voting against, and one abstaining.\\nThis year the second resolution, submitted as a draft decision by Tunisia on behalf of the Group of 77 - the one calling for the establishment of the commission on debt and development that I had the privilege of proposing last year - is on the agenda of this Assembly. The draft decision calls upon this forty-fourth session of the General Assembly\\n'To establish, under the aegis of the Secretary-General, an Advisory Commission on Debt and Development composed of eminent persons from the academic, political and financial sectors with knowledge and experience in international finance, trade and development, to develop innovative approaches and evolve specific proposals related to all types of debt in order to solve the debt problem of developing countries in a manner consistent with their sustained growth and development.' (A/C.R/43/L.19) . The draft decision provides that\\n'Debtor and creditor interests shall be represented in the membership of the Commission, which shall take into account the need for appropriate geographical representation and regional balance.! (ibid.) . It commands that 'The Commission shall take into consideration the various existing studies and recommendations on the subject, including the views of the Secretary-General set out in his report entitled 'Towards a durable solution of the debt problem and those expressed by the United Nations Conference on Trade and Development in the Trade and Development Report, 1988.' (ibid.). Finally, it gives this Commission a life of three years and commands it to submit annual reports to the General Assembly. A commission of this kind was proposed by the non-aligned summit in Belgrade early this month.\\nThe Assembly must adopt this draft decision, for the global attack on debt must be pressed. The Assembly must adopt it because you yourself, Mr. President, have articulated the economic, political and social consequences of the international debt. The Assembly must adopt it, for the time is come when original rigidities are yielding to flexibilities. In 1987 Japan suggested IMF-funded bonds to buy out debtors' loans. At the 1988 Toronto summit France proposed the forgiveness of debts of the poorest of the poor in the sub-Sahara. At the forty-third session of the General Assembly last year, French President Francois Mitterand proposed an IMF-guaranteed conversion of loans into bonds to reduce financial charges of debtor countries and urged creditor countries to finance this scheme. Last year, as we were delivering our opening statements in this Hall, the Secretary of the Treasury of the United States - at the annual IMF-World Bank meeting in Berlin - was standing firm against the use of international aid funds for private-debt reduction.\\nA week later, as I negotiated in Washington a review of the Philippine-United States military bases agreement, the same Secretary of the Treasury began to show flexibility. He agreed to the Philippine position that a portion of United States compensation money could be used for a debt-re duct ion component of the bases compensation package.\\nIt was for us - and perhaps for all international debtors - a historic breakthrough, a budding promise of universal relief. Four months later the bud blossomed into a full-fledged plan. On 10 March 1989 United States Secretary of the Treasury Nicholas Brady announced that plan, which allows - nay, encourages - the financing of international debt reduction and debt service by the International Monetary Fund and the World Bank.\\nBecause of the plan, our Philippine negotiators may soon sign with private banks a debt-relief agreement that could be unprecedented. It will be voluntary, for the extent of debt relief is determined by the willingness of commercial banks to agree to substantial discounts on debts repaid. It will be a substantial debt reduction, possibly up to half of the debt to banks which choose to exit from our borrowing programme. And there will be new resources - up to $1 billion from the hard core of institutions that will continue to support us.\\nI spoke to the Assembly last year of our poor. They are still poor, and they are still there, but they may now look hopefully to new horizons. Flexible minds make new horizons possible. It is the flexible and creative mind of Secretary Brady, bending with the international reality, that has given us this new horizon. It is, indeed, thank God, the new age of flexibility. I saw it happening in the Soviet Union, too, last month, when I met with Mr. Gorbachev in Moscow, where flexibility is pronounced perestroika and glasnost, and includes the ability to change, to admit past imperfections and to dream of new perfections.\\nLet us aid this new flexibility, let us speed its momentum by providing it with global underpinnings, underpinnings which can emanate only from the peaceful processes of the United Nations and the instruments that awaken its talent to create. One such instrument could be the proposed Advisory Commission on Debt and Development. The Commission will come to life, not as a challenge to the creditor nations, but, indeed, as a tribute to them and as a move of collaboration by debtor nations in that new openness which creditors have begun to display.\\nThe Brady plan sees forgiveness as essential to revitalizing adjustment and making us credit-worthy again. The Brady plan can jump-start the stalled engines of development of debtor nations. The Brady plan is a beginning, and it must answer still other questions. Is there no criterion, for instance, with which to judge the application of debt-reduction or relief, except that they should be pursued? Must we wait until all the physical levels of production and productivity potentials are obliterated for the debt to be written off or forgiven?  Are not meaningful reductions possible only when there are new facilities that are not caught up in the inertia of the international bureaucracy or of strongly held philosophies and interests? Otherwise, will the focus ever go beyond sub-Sahara?\\nShould not the Government major actors of the plan be mobilizing their leverage and adjusting their financial regulations? Is it enough to lay out the bare bones, which lose their flavour in the broth of rhetoric?\\nShould not the Commission be advising not only on how to persuade creditors to reduce debt but also on how to help debtors produce in order to pay debt?\\nThere is, for instance, the generation of power - power produces goods? goods pay debts. The Commission could stimulate power-generation and raise the power capabilities of debtor countries. It could ask the question*, if rich countries have often been ready to underwrite slum clearances, cannot they launch a programme to underwrite power equipment on concessional terms for the development of a slum-cleared economy that in time will develop the capacity to repay these concessional loans? Let the world take note that the most outstanding success of the United Nations is the United Nations itself.\\nThe United Nations cap is full of feathers these days. There is a feather for putting Namibia irreversibly on the road to independence and to becoming the 160th Member of the United Nations. There is another feather for the Secretary-General's mediating a cease-fire and bringing fighting between Iran and Iraq to an end. There is a special feather: the 1988 Nobel Peace Prize for the United Nations peace-keeping forces.\\nThere are still other feathers perhaps soon to be pinned on that cap - for United Nations campaigns on drug abuse, on the environment and on terrorism. Can there be United Nations campaigns any more urgent than those against these universally recognized evils - drug abuse, abuse of the environment, terrorism? I submit that there can.\\nThere is a conventional theological faith that every human being is born with original sin. There is a new theology, a theology of bondage, not liberation.\\nToday a human being is born not only with original sin but also with original debt. To quantify it, the third world now owes 41.3 trillion to creditors, so every child in that world is indebted up to 41,000 at the moment of birth. At an\\nannual rate of interest of 10 per cent compounded, these human beings at the age of 21 will each owe $7,000, and if they marry at that age, husband and wife will begin their married life with a joint burden of over 314,000. Is not that a challenge worthy of 15 9 Members of the United Nations to take up?\\nIs not this campaign worthy of being launched now, now that the momentum of flexibility has stirred the ranks of the lenders?\\nIs not this the moment for the debtors to extend the hand of collaboration to the creditors, in a Commission, as the draft decision puts it, 'of eminent persons from the academic, political and financial sectors with knowledge and experience in international finance, trade and development, to develop innovative approaches and evolve specific proposals related to all types of debt in order to solve the debt problem of developing countries in a manner consistent with their sustained growth and development'? (A/C.2/43/L.19, para, (a))\\nLet the Commission be the next feather in the United Nations cap. It will be a timely and elegant feather. A world of hungry debtors awaits its pinning in the United Nations cap. \\n\""
      ]
     },
     "execution_count": 14,
     "metadata": {},
     "output_type": "execute_result"
    }
   ],
   "source": [
    "df['text'][5]"
   ]
  },
  {
   "cell_type": "code",
   "execution_count": 15,
   "metadata": {},
   "outputs": [
    {
     "data": {
      "text/plain": [
       "'begin occupy exalt seat mr president already discharge noble international mandate preside year special committee apartheid direction global counterattack insult race man gain signal victory mr president friend filipinos visit 1987 friend late martyr ninoy aquino work harvard filipinos rejoice preside body nation next 365 day mr dante caputo former foreign minister argentina let say much prediction success presidency last year prove correct expert hand steer proceeding without conflict without incident without delay faith outstanding human leader justify faith filipinos take add pride fact dante caputo successful outgoing president man like root world hispanic culture last year come rostrum bring assembly message poor country say poor come indolent race say countryman cover earth 2 million americas half million middle east quarter million europe half million asia pacific seeker toil life teacher nation physician man builder industry designer module challenge star settle moon man woman skill diligence like europe settle america build new world say poor know fight right first asia shed blood western colonialism produce republic ninety year later first nation world mass million confront gun rosary bring dictator without shedding blood four bloodless spectacular day february raise corazon c aquino new peaceful rallying cry people power even resonate sometimes unsuccessfully always gloriously street nation transition one continent earth say poor multiply fast know rich nation building city industry extermination human instinct reduce multiplication say poor nation grow country grow free although remain harass extreme right leave keep democratic course economy grow last year 6 8 per cent last semester 5 3 per cent poor say inherit external debt dictator 30 billion order service country must divert 20 per cent annual budget send annually 1 7 billion receive year country north insist one may talk debt relief beyond boardroom international monetary fund imf world bank yet international debt forgiveness become reality time imf world bank bear institution conceive bold victorious visionary leadership remember stubborn mistake 1919 versailles forgave 1947 london 70 per cent german debt call last year formation international debt development commission order recapture original vision group 77 respond quickly two resolution draft first call secretary general united nations continue use high office towards common understanding solution international external debt resolution pass forty third session general assembly one member voting one abstain year second resolution submit draft decision tunisia behalf group 77 one call establishment commission debt development privilege propose last year agenda assembly draft decision call upon forty fourth session general assembly establish aegis secretary general advisory commission debt development compose eminent person academic political financial sector knowledge experience international finance trade development develop innovative approach evolve specific proposal relate type debt order solve debt problem develop country manner consistent sustained growth development / c r/43 / l 19 draft decision provide debtor creditor interest shall represent membership commission shall take account need appropriate geographical representation regional balance ibid command commission shall take consideration various exist study recommendation subject include view secretary general set report entitle towards durable solution debt problem express united nations conference trade development trade development report 1988 ibid finally give commission life three year command submit annual report general assembly commission kind propose non align summit belgrade early month assembly must adopt draft decision global attack debt must press assembly must adopt mr president articulate economic political social consequence international debt assembly must adopt time come original rigidity yield flexibility 1987 japan suggest imf fund bond buy debtor loan 1988 toronto summit france propose forgiveness debt poor poor sub sahara forty third session general assembly last year french president francois mitterand propose imf guarantee conversion loan bond reduce financial charge debtor country urge creditor country finance scheme last year deliver opening statement hall secretary treasury united states annual imf world bank meeting berlin stand firm use international aid fund private debt reduction week later negotiate washington review philippine united states military basis agreement secretary treasury begin show flexibility agree philippine position portion united states compensation money could use debt duct ion component basis compensation package perhaps international debtor historic breakthrough bud promise universal relief four month later bud blossom full fledge plan 10 march 1989 united states secretary treasury nicholas brady announce plan allow nay encourage financing international debt reduction debt service international monetary fund world bank plan philippine negotiator may soon sign private bank debt relief agreement could unprecedented voluntary extent debt relief determine willingness commercial bank agree substantial discount debt repay substantial debt reduction possibly half debt bank choose exit borrowing programme new resource 1 billion hard core institution continue support speak assembly last year poor still poor still may look hopefully new horizon flexible mind make new horizon possible flexible creative mind secretary brady bend international reality give new horizon indeed thank god new age flexibility see happen soviet union last month meet mr gorbachev moscow flexibility pronounce perestroika glasnost include ability change admit past imperfection dream new perfection let aid new flexibility let speed momentum provide global underpinning underpinning emanate peaceful process united nations instrument awaken talent create one instrument could propose advisory commission debt development commission come life challenge creditor nation indeed tribute move collaboration debtor nation new openness creditor begin display brady plan see forgiveness essential revitalize adjustment make credit worthy brady plan jump start stall engine development debtor nation brady plan beginning must answer still question criterion instance judge application debt reduction relief except pursue must wait physical level production productivity potential obliterate debt write forgive meaningful reduction possible new facility catch inertia international bureaucracy strongly hold philosophy interest otherwise focus ever go beyond sub sahara government major actor plan mobilize leverage adjust financial regulation enough lay bare bone lose flavour broth rhetoric commission advise persuade creditor reduce debt also help debtor produce order pay debt instance generation power power produce good good pay debt commission could stimulate power generation raise power capability debtor country could ask question rich country often ready underwrite slum clearance launch programme underwrite power equipment concessional term development slum clear economy time develop capacity repay concessional loan let world take note outstanding success united nations united nations united nations cap full feather day feather put namibia irreversibly road independence become 160th member united nations another feather secretary general mediate cease fire bring fighting iran iraq end special feather 1988 nobel peace prize united nations peace keep force still feather perhaps soon pin cap united nations campaign drug abuse environment terrorism united nations campaign urgent universally recognize evil drug abuse abuse environment terrorism submit conventional theological faith every human bear original sin new theology theology bondage liberation today human bear original sin also original debt quantify third world owe 41 3 trillion creditor every child world indebte 41 000 moment birth annual rate interest 10 per cent compound human age 21 owe 7 000 marry age husband wife begin married life joint burden 314 000 challenge worthy 15 9 member united nations take campaign worthy launch momentum flexibility stir rank lender moment debtor extend hand collaboration creditor commission draft decision put eminent person academic political financial sector knowledge experience international finance trade development develop innovative approach evolve specific proposal relate type debt order solve debt problem develop country manner consistent sustained growth development / c 2/43 / l 19 para let commission next feather united nations cap timely elegant feather world hungry debtor await pinning united nations cap'"
      ]
     },
     "execution_count": 15,
     "metadata": {},
     "output_type": "execute_result"
    }
   ],
   "source": [
    "df['document'][5]"
   ]
  },
  {
   "cell_type": "markdown",
   "metadata": {},
   "source": [
    "## Exercise 3 - Save the pre-processed data"
   ]
  },
  {
   "cell_type": "markdown",
   "metadata": {},
   "source": [
    "Save the data as 02.1 un-general-debates"
   ]
  },
  {
   "cell_type": "code",
   "execution_count": 17,
   "metadata": {},
   "outputs": [],
   "source": [
    "excelfilename = \"Data/03.1 un-general-debates.csv\"\n",
    "df.to_csv(excelfilename,index=False)"
   ]
  },
  {
   "cell_type": "code",
   "execution_count": null,
   "metadata": {},
   "outputs": [],
   "source": []
  }
 ],
 "metadata": {
  "kernelspec": {
   "display_name": "Python 3 (ipykernel)",
   "language": "python",
   "name": "python3"
  },
  "language_info": {
   "codemirror_mode": {
    "name": "ipython",
    "version": 3
   },
   "file_extension": ".py",
   "mimetype": "text/x-python",
   "name": "python",
   "nbconvert_exporter": "python",
   "pygments_lexer": "ipython3",
   "version": "3.12.4"
  }
 },
 "nbformat": 4,
 "nbformat_minor": 4
}
