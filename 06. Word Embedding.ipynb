{
 "cells": [
  {
   "cell_type": "markdown",
   "metadata": {},
   "source": [
    "# Word embedding - Solutions\n",
    "\n",
    "In this tutorial we will be working with the transcriptions of general debates at the United Nations from 1970 to 2016. We will try to see whether the fall of the iron curtain changed the debates.\n",
    "\n",
    "For now, we'll just focus on the representation of the general debeates using various methods."
   ]
  },
  {
   "cell_type": "markdown",
   "metadata": {},
   "source": [
    "## Packages"
   ]
  },
  {
   "cell_type": "code",
   "execution_count": 1,
   "metadata": {},
   "outputs": [],
   "source": [
    "InstallPackages = False\n",
    "if InstallPackages:\n",
    "    !pip install pandas\n",
    "    !pip install numpy\n",
    "    !pip install scikit-learn\n",
    "    !pip install spacy\n",
    "    !pip install gensim\n",
    "    !pip install seaborn\n",
    "    !pip install matplotlib"
   ]
  },
  {
   "cell_type": "code",
   "execution_count": 2,
   "metadata": {},
   "outputs": [],
   "source": [
    "import pandas as pd\n",
    "import numpy as np\n",
    "import seaborn as sns\n",
    "from matplotlib import pyplot as plt\n",
    "from gensim.corpora import Dictionary\n",
    "import spacy\n",
    "from gensim.models.fasttext import load_facebook_model\n",
    "from sklearn.cluster import KMeans\n",
    "from sklearn.feature_extraction.text import CountVectorizer\n",
    "from sklearn.decomposition import PCA"
   ]
  },
  {
   "cell_type": "markdown",
   "metadata": {},
   "source": [
    "**Note:** Please, download the .bin file from the following website: https://fasttext.cc/docs/en/crawl-vectors.html"
   ]
  },
  {
   "cell_type": "code",
   "execution_count": 3,
   "metadata": {},
   "outputs": [],
   "source": [
    "ft_model = load_facebook_model('Models/cc.en.300.bin')\n",
    "ft_dim = 300"
   ]
  },
  {
   "cell_type": "markdown",
   "metadata": {},
   "source": [
    "## Seed"
   ]
  },
  {
   "cell_type": "code",
   "execution_count": 4,
   "metadata": {},
   "outputs": [],
   "source": [
    "seed = 42"
   ]
  },
  {
   "cell_type": "markdown",
   "metadata": {},
   "source": [
    "## Read the Data\n",
    "Read in the pre-processed 02.1 un-general-debates.csv file and set it to a data frame called df."
   ]
  },
  {
   "cell_type": "code",
   "execution_count": 5,
   "metadata": {},
   "outputs": [],
   "source": [
    "df = pd.read_csv('Data/03.1 un-general-debates.csv')"
   ]
  },
  {
   "cell_type": "markdown",
   "metadata": {},
   "source": [
    "Use info on df"
   ]
  },
  {
   "cell_type": "code",
   "execution_count": 6,
   "metadata": {},
   "outputs": [
    {
     "name": "stdout",
     "output_type": "stream",
     "text": [
      "<class 'pandas.core.frame.DataFrame'>\n",
      "RangeIndex: 7507 entries, 0 to 7506\n",
      "Data columns (total 5 columns):\n",
      " #   Column    Non-Null Count  Dtype \n",
      "---  ------    --------------  ----- \n",
      " 0   session   7507 non-null   int64 \n",
      " 1   year      7507 non-null   int64 \n",
      " 2   country   7507 non-null   object\n",
      " 3   text      7507 non-null   object\n",
      " 4   document  7507 non-null   object\n",
      "dtypes: int64(2), object(3)\n",
      "memory usage: 293.4+ KB\n"
     ]
    }
   ],
   "source": [
    "df.info()"
   ]
  },
  {
   "cell_type": "markdown",
   "metadata": {},
   "source": [
    "Check the head of ad_data"
   ]
  },
  {
   "cell_type": "code",
   "execution_count": 7,
   "metadata": {},
   "outputs": [
    {
     "data": {
      "text/html": [
       "<div>\n",
       "<style scoped>\n",
       "    .dataframe tbody tr th:only-of-type {\n",
       "        vertical-align: middle;\n",
       "    }\n",
       "\n",
       "    .dataframe tbody tr th {\n",
       "        vertical-align: top;\n",
       "    }\n",
       "\n",
       "    .dataframe thead th {\n",
       "        text-align: right;\n",
       "    }\n",
       "</style>\n",
       "<table border=\"1\" class=\"dataframe\">\n",
       "  <thead>\n",
       "    <tr style=\"text-align: right;\">\n",
       "      <th></th>\n",
       "      <th>session</th>\n",
       "      <th>year</th>\n",
       "      <th>country</th>\n",
       "      <th>text</th>\n",
       "      <th>document</th>\n",
       "    </tr>\n",
       "  </thead>\n",
       "  <tbody>\n",
       "    <tr>\n",
       "      <th>0</th>\n",
       "      <td>44</td>\n",
       "      <td>1989</td>\n",
       "      <td>MDV</td>\n",
       "      <td>﻿It is indeed a pleasure for me and the member...</td>\n",
       "      <td>indeed pleasure member delegation extend ambas...</td>\n",
       "    </tr>\n",
       "    <tr>\n",
       "      <th>1</th>\n",
       "      <td>44</td>\n",
       "      <td>1989</td>\n",
       "      <td>FIN</td>\n",
       "      <td>﻿\\nMay I begin by congratulating you. Sir, on ...</td>\n",
       "      <td>may begin congratulate sir election presidency...</td>\n",
       "    </tr>\n",
       "    <tr>\n",
       "      <th>2</th>\n",
       "      <td>44</td>\n",
       "      <td>1989</td>\n",
       "      <td>NER</td>\n",
       "      <td>﻿\\nMr. President, it is a particular pleasure ...</td>\n",
       "      <td>mr president particular pleasure behalf delega...</td>\n",
       "    </tr>\n",
       "    <tr>\n",
       "      <th>3</th>\n",
       "      <td>44</td>\n",
       "      <td>1989</td>\n",
       "      <td>URY</td>\n",
       "      <td>﻿\\nDuring the debate at the fortieth session o...</td>\n",
       "      <td>debate fortieth session general assembly four ...</td>\n",
       "    </tr>\n",
       "    <tr>\n",
       "      <th>4</th>\n",
       "      <td>44</td>\n",
       "      <td>1989</td>\n",
       "      <td>ZWE</td>\n",
       "      <td>﻿I should like at the outset to express my del...</td>\n",
       "      <td>like outset express delegation satisfaction pl...</td>\n",
       "    </tr>\n",
       "  </tbody>\n",
       "</table>\n",
       "</div>"
      ],
      "text/plain": [
       "   session  year country                                               text  \\\n",
       "0       44  1989     MDV  ﻿It is indeed a pleasure for me and the member...   \n",
       "1       44  1989     FIN  ﻿\\nMay I begin by congratulating you. Sir, on ...   \n",
       "2       44  1989     NER  ﻿\\nMr. President, it is a particular pleasure ...   \n",
       "3       44  1989     URY  ﻿\\nDuring the debate at the fortieth session o...   \n",
       "4       44  1989     ZWE  ﻿I should like at the outset to express my del...   \n",
       "\n",
       "                                            document  \n",
       "0  indeed pleasure member delegation extend ambas...  \n",
       "1  may begin congratulate sir election presidency...  \n",
       "2  mr president particular pleasure behalf delega...  \n",
       "3  debate fortieth session general assembly four ...  \n",
       "4  like outset express delegation satisfaction pl...  "
      ]
     },
     "execution_count": 7,
     "metadata": {},
     "output_type": "execute_result"
    }
   ],
   "source": [
    "df.head()"
   ]
  },
  {
   "cell_type": "markdown",
   "metadata": {},
   "source": [
    "Now, we will focus on the German states, the United states of America and Russia"
   ]
  },
  {
   "cell_type": "code",
   "execution_count": 8,
   "metadata": {},
   "outputs": [],
   "source": [
    "where = df['country'].isin(['DDR','DEU','USA','RUS'])"
   ]
  },
  {
   "cell_type": "code",
   "execution_count": 9,
   "metadata": {},
   "outputs": [],
   "source": [
    "df = df[where]"
   ]
  },
  {
   "cell_type": "code",
   "execution_count": 10,
   "metadata": {},
   "outputs": [],
   "source": [
    "df = df.reset_index(drop=True)"
   ]
  },
  {
   "cell_type": "markdown",
   "metadata": {},
   "source": [
    "## Exercise 1 - Write functions to vectorize the documents"
   ]
  },
  {
   "cell_type": "markdown",
   "metadata": {},
   "source": [
    "Vectorize function"
   ]
  },
  {
   "cell_type": "code",
   "execution_count": 11,
   "metadata": {},
   "outputs": [],
   "source": [
    "def vectorize(docs):\n",
    "    \n",
    "    \"\"\"\n",
    "    This function is used to vectorize the corpus.\n",
    "    \n",
    "    \"\"\"\n",
    "    \n",
    "    vectorized = []\n",
    "    for tokens in docs:\n",
    "        zero_vector = np.zeros(ft_dim)\n",
    "        vectors = []\n",
    "        for token in tokens:\n",
    "            if token in ft_model.wv.key_to_index:\n",
    "                try:\n",
    "                    vectors.append(ft_model.wv[token])\n",
    "                except KeyError:\n",
    "                    continue\n",
    "        if vectors:\n",
    "            vectors = np.asarray(vectors)\n",
    "            avg_vec = vectors.mean(axis=0)\n",
    "            vectorized.append(avg_vec)\n",
    "            \"\"\"\n",
    "            if len(tokens) > 1:\n",
    "                print('tokens:', tokens)\n",
    "                for i, vec in enumerate(vectors):\n",
    "                    print('vec for %s:' % tokens[i], vec)\n",
    "                print('avg:', avg_vec)\n",
    "                print('val for avg[0]:', avg_vec[0])\n",
    "                temp = [x[0] for x in vectors]\n",
    "                print('first vals:', temp)\n",
    "                print('avg first vals:', numpy.mean(temp))\n",
    "            \"\"\"\n",
    "        else:\n",
    "            vectorized.append(zero_vector)\n",
    "    return vectorized"
   ]
  },
  {
   "cell_type": "markdown",
   "metadata": {},
   "source": [
    "## Exercise 2 - Conduct the vectorization of the documents"
   ]
  },
  {
   "cell_type": "markdown",
   "metadata": {},
   "source": [
    "Not it's time to conduct the vectorization of the documents and to see the dimension of the vectorization as well as the number of documents vectorized."
   ]
  },
  {
   "cell_type": "code",
   "execution_count": 12,
   "metadata": {},
   "outputs": [],
   "source": [
    "vectorized = vectorize(df['document'])"
   ]
  },
  {
   "cell_type": "code",
   "execution_count": 13,
   "metadata": {},
   "outputs": [
    {
     "data": {
      "text/plain": [
       "300"
      ]
     },
     "execution_count": 13,
     "metadata": {},
     "output_type": "execute_result"
    }
   ],
   "source": [
    "#representation of a document\n",
    "len(vectorized[1])"
   ]
  },
  {
   "cell_type": "code",
   "execution_count": 14,
   "metadata": {},
   "outputs": [
    {
     "data": {
      "text/plain": [
       "152"
      ]
     },
     "execution_count": 14,
     "metadata": {},
     "output_type": "execute_result"
    }
   ],
   "source": [
    "#number of documents\n",
    "len(vectorized)"
   ]
  },
  {
   "cell_type": "markdown",
   "metadata": {},
   "source": [
    "Add topics over documents to Data Frame"
   ]
  },
  {
   "cell_type": "markdown",
   "metadata": {},
   "source": [
    "## Exercise 3 - Add topics over documents to the data frame"
   ]
  },
  {
   "cell_type": "markdown",
   "metadata": {},
   "source": [
    "Add vectors to Data Frame"
   ]
  },
  {
   "cell_type": "code",
   "execution_count": 15,
   "metadata": {},
   "outputs": [
    {
     "data": {
      "text/html": [
       "<div>\n",
       "<style scoped>\n",
       "    .dataframe tbody tr th:only-of-type {\n",
       "        vertical-align: middle;\n",
       "    }\n",
       "\n",
       "    .dataframe tbody tr th {\n",
       "        vertical-align: top;\n",
       "    }\n",
       "\n",
       "    .dataframe thead th {\n",
       "        text-align: right;\n",
       "    }\n",
       "</style>\n",
       "<table border=\"1\" class=\"dataframe\">\n",
       "  <thead>\n",
       "    <tr style=\"text-align: right;\">\n",
       "      <th></th>\n",
       "      <th>0</th>\n",
       "      <th>1</th>\n",
       "      <th>2</th>\n",
       "      <th>3</th>\n",
       "      <th>4</th>\n",
       "      <th>5</th>\n",
       "      <th>6</th>\n",
       "      <th>7</th>\n",
       "      <th>8</th>\n",
       "      <th>9</th>\n",
       "      <th>...</th>\n",
       "      <th>290</th>\n",
       "      <th>291</th>\n",
       "      <th>292</th>\n",
       "      <th>293</th>\n",
       "      <th>294</th>\n",
       "      <th>295</th>\n",
       "      <th>296</th>\n",
       "      <th>297</th>\n",
       "      <th>298</th>\n",
       "      <th>299</th>\n",
       "    </tr>\n",
       "  </thead>\n",
       "  <tbody>\n",
       "    <tr>\n",
       "      <th>0</th>\n",
       "      <td>0.041803</td>\n",
       "      <td>-0.474364</td>\n",
       "      <td>-0.177181</td>\n",
       "      <td>-0.115030</td>\n",
       "      <td>0.064566</td>\n",
       "      <td>0.080548</td>\n",
       "      <td>-0.432402</td>\n",
       "      <td>0.023970</td>\n",
       "      <td>0.002197</td>\n",
       "      <td>0.005664</td>\n",
       "      <td>...</td>\n",
       "      <td>0.054978</td>\n",
       "      <td>-0.011042</td>\n",
       "      <td>-0.422587</td>\n",
       "      <td>0.117365</td>\n",
       "      <td>-0.045470</td>\n",
       "      <td>0.060640</td>\n",
       "      <td>0.070408</td>\n",
       "      <td>0.433676</td>\n",
       "      <td>-0.180066</td>\n",
       "      <td>-0.006274</td>\n",
       "    </tr>\n",
       "    <tr>\n",
       "      <th>1</th>\n",
       "      <td>0.045170</td>\n",
       "      <td>-0.479347</td>\n",
       "      <td>-0.176777</td>\n",
       "      <td>-0.114831</td>\n",
       "      <td>0.058033</td>\n",
       "      <td>0.077568</td>\n",
       "      <td>-0.435678</td>\n",
       "      <td>0.026247</td>\n",
       "      <td>0.000754</td>\n",
       "      <td>0.005336</td>\n",
       "      <td>...</td>\n",
       "      <td>0.054311</td>\n",
       "      <td>-0.012711</td>\n",
       "      <td>-0.420422</td>\n",
       "      <td>0.120504</td>\n",
       "      <td>-0.047409</td>\n",
       "      <td>0.063532</td>\n",
       "      <td>0.071119</td>\n",
       "      <td>0.437064</td>\n",
       "      <td>-0.180782</td>\n",
       "      <td>-0.006327</td>\n",
       "    </tr>\n",
       "    <tr>\n",
       "      <th>2</th>\n",
       "      <td>0.042098</td>\n",
       "      <td>-0.477911</td>\n",
       "      <td>-0.177789</td>\n",
       "      <td>-0.111894</td>\n",
       "      <td>0.065718</td>\n",
       "      <td>0.085932</td>\n",
       "      <td>-0.438042</td>\n",
       "      <td>0.016039</td>\n",
       "      <td>-0.001096</td>\n",
       "      <td>0.008730</td>\n",
       "      <td>...</td>\n",
       "      <td>0.047986</td>\n",
       "      <td>-0.007814</td>\n",
       "      <td>-0.423469</td>\n",
       "      <td>0.119311</td>\n",
       "      <td>-0.038719</td>\n",
       "      <td>0.060234</td>\n",
       "      <td>0.067308</td>\n",
       "      <td>0.430105</td>\n",
       "      <td>-0.182800</td>\n",
       "      <td>0.004314</td>\n",
       "    </tr>\n",
       "    <tr>\n",
       "      <th>3</th>\n",
       "      <td>0.040613</td>\n",
       "      <td>-0.473045</td>\n",
       "      <td>-0.178341</td>\n",
       "      <td>-0.113857</td>\n",
       "      <td>0.065143</td>\n",
       "      <td>0.076385</td>\n",
       "      <td>-0.427757</td>\n",
       "      <td>0.025394</td>\n",
       "      <td>0.000688</td>\n",
       "      <td>0.005907</td>\n",
       "      <td>...</td>\n",
       "      <td>0.056330</td>\n",
       "      <td>-0.014192</td>\n",
       "      <td>-0.422098</td>\n",
       "      <td>0.120440</td>\n",
       "      <td>-0.044725</td>\n",
       "      <td>0.063443</td>\n",
       "      <td>0.071703</td>\n",
       "      <td>0.433857</td>\n",
       "      <td>-0.181058</td>\n",
       "      <td>-0.005857</td>\n",
       "    </tr>\n",
       "    <tr>\n",
       "      <th>4</th>\n",
       "      <td>0.039868</td>\n",
       "      <td>-0.468658</td>\n",
       "      <td>-0.175847</td>\n",
       "      <td>-0.115713</td>\n",
       "      <td>0.068617</td>\n",
       "      <td>0.079759</td>\n",
       "      <td>-0.427061</td>\n",
       "      <td>0.021308</td>\n",
       "      <td>0.001091</td>\n",
       "      <td>0.005531</td>\n",
       "      <td>...</td>\n",
       "      <td>0.050403</td>\n",
       "      <td>-0.012078</td>\n",
       "      <td>-0.421168</td>\n",
       "      <td>0.113696</td>\n",
       "      <td>-0.041331</td>\n",
       "      <td>0.061586</td>\n",
       "      <td>0.071667</td>\n",
       "      <td>0.439560</td>\n",
       "      <td>-0.177153</td>\n",
       "      <td>-0.003478</td>\n",
       "    </tr>\n",
       "    <tr>\n",
       "      <th>...</th>\n",
       "      <td>...</td>\n",
       "      <td>...</td>\n",
       "      <td>...</td>\n",
       "      <td>...</td>\n",
       "      <td>...</td>\n",
       "      <td>...</td>\n",
       "      <td>...</td>\n",
       "      <td>...</td>\n",
       "      <td>...</td>\n",
       "      <td>...</td>\n",
       "      <td>...</td>\n",
       "      <td>...</td>\n",
       "      <td>...</td>\n",
       "      <td>...</td>\n",
       "      <td>...</td>\n",
       "      <td>...</td>\n",
       "      <td>...</td>\n",
       "      <td>...</td>\n",
       "      <td>...</td>\n",
       "      <td>...</td>\n",
       "      <td>...</td>\n",
       "    </tr>\n",
       "    <tr>\n",
       "      <th>147</th>\n",
       "      <td>0.041443</td>\n",
       "      <td>-0.472530</td>\n",
       "      <td>-0.179367</td>\n",
       "      <td>-0.114636</td>\n",
       "      <td>0.064991</td>\n",
       "      <td>0.076231</td>\n",
       "      <td>-0.428124</td>\n",
       "      <td>0.026487</td>\n",
       "      <td>0.000383</td>\n",
       "      <td>0.004232</td>\n",
       "      <td>...</td>\n",
       "      <td>0.058600</td>\n",
       "      <td>-0.015615</td>\n",
       "      <td>-0.421761</td>\n",
       "      <td>0.119955</td>\n",
       "      <td>-0.043128</td>\n",
       "      <td>0.061627</td>\n",
       "      <td>0.071682</td>\n",
       "      <td>0.435125</td>\n",
       "      <td>-0.180907</td>\n",
       "      <td>-0.008896</td>\n",
       "    </tr>\n",
       "    <tr>\n",
       "      <th>148</th>\n",
       "      <td>0.044541</td>\n",
       "      <td>-0.473861</td>\n",
       "      <td>-0.176111</td>\n",
       "      <td>-0.113395</td>\n",
       "      <td>0.065062</td>\n",
       "      <td>0.073943</td>\n",
       "      <td>-0.434651</td>\n",
       "      <td>0.023403</td>\n",
       "      <td>0.000180</td>\n",
       "      <td>0.006896</td>\n",
       "      <td>...</td>\n",
       "      <td>0.052061</td>\n",
       "      <td>-0.010522</td>\n",
       "      <td>-0.423800</td>\n",
       "      <td>0.118548</td>\n",
       "      <td>-0.041915</td>\n",
       "      <td>0.066871</td>\n",
       "      <td>0.069289</td>\n",
       "      <td>0.435122</td>\n",
       "      <td>-0.181913</td>\n",
       "      <td>-0.004838</td>\n",
       "    </tr>\n",
       "    <tr>\n",
       "      <th>149</th>\n",
       "      <td>0.043971</td>\n",
       "      <td>-0.471412</td>\n",
       "      <td>-0.176335</td>\n",
       "      <td>-0.110895</td>\n",
       "      <td>0.066081</td>\n",
       "      <td>0.074975</td>\n",
       "      <td>-0.422528</td>\n",
       "      <td>0.026734</td>\n",
       "      <td>0.002478</td>\n",
       "      <td>0.006643</td>\n",
       "      <td>...</td>\n",
       "      <td>0.060910</td>\n",
       "      <td>-0.019040</td>\n",
       "      <td>-0.428539</td>\n",
       "      <td>0.118366</td>\n",
       "      <td>-0.040926</td>\n",
       "      <td>0.064805</td>\n",
       "      <td>0.069541</td>\n",
       "      <td>0.426809</td>\n",
       "      <td>-0.173203</td>\n",
       "      <td>-0.005083</td>\n",
       "    </tr>\n",
       "    <tr>\n",
       "      <th>150</th>\n",
       "      <td>0.047017</td>\n",
       "      <td>-0.470673</td>\n",
       "      <td>-0.177591</td>\n",
       "      <td>-0.110135</td>\n",
       "      <td>0.060646</td>\n",
       "      <td>0.072362</td>\n",
       "      <td>-0.430308</td>\n",
       "      <td>0.024766</td>\n",
       "      <td>0.000785</td>\n",
       "      <td>0.008610</td>\n",
       "      <td>...</td>\n",
       "      <td>0.058805</td>\n",
       "      <td>-0.014152</td>\n",
       "      <td>-0.424705</td>\n",
       "      <td>0.119273</td>\n",
       "      <td>-0.039459</td>\n",
       "      <td>0.065795</td>\n",
       "      <td>0.067146</td>\n",
       "      <td>0.437436</td>\n",
       "      <td>-0.178875</td>\n",
       "      <td>-0.003260</td>\n",
       "    </tr>\n",
       "    <tr>\n",
       "      <th>151</th>\n",
       "      <td>0.045586</td>\n",
       "      <td>-0.472067</td>\n",
       "      <td>-0.176680</td>\n",
       "      <td>-0.111250</td>\n",
       "      <td>0.064202</td>\n",
       "      <td>0.078444</td>\n",
       "      <td>-0.436191</td>\n",
       "      <td>0.020851</td>\n",
       "      <td>0.000117</td>\n",
       "      <td>0.009354</td>\n",
       "      <td>...</td>\n",
       "      <td>0.051438</td>\n",
       "      <td>-0.013885</td>\n",
       "      <td>-0.424830</td>\n",
       "      <td>0.115276</td>\n",
       "      <td>-0.036413</td>\n",
       "      <td>0.065198</td>\n",
       "      <td>0.067539</td>\n",
       "      <td>0.436318</td>\n",
       "      <td>-0.180885</td>\n",
       "      <td>-0.000039</td>\n",
       "    </tr>\n",
       "  </tbody>\n",
       "</table>\n",
       "<p>152 rows × 300 columns</p>\n",
       "</div>"
      ],
      "text/plain": [
       "          0         1         2         3         4         5         6    \\\n",
       "0    0.041803 -0.474364 -0.177181 -0.115030  0.064566  0.080548 -0.432402   \n",
       "1    0.045170 -0.479347 -0.176777 -0.114831  0.058033  0.077568 -0.435678   \n",
       "2    0.042098 -0.477911 -0.177789 -0.111894  0.065718  0.085932 -0.438042   \n",
       "3    0.040613 -0.473045 -0.178341 -0.113857  0.065143  0.076385 -0.427757   \n",
       "4    0.039868 -0.468658 -0.175847 -0.115713  0.068617  0.079759 -0.427061   \n",
       "..        ...       ...       ...       ...       ...       ...       ...   \n",
       "147  0.041443 -0.472530 -0.179367 -0.114636  0.064991  0.076231 -0.428124   \n",
       "148  0.044541 -0.473861 -0.176111 -0.113395  0.065062  0.073943 -0.434651   \n",
       "149  0.043971 -0.471412 -0.176335 -0.110895  0.066081  0.074975 -0.422528   \n",
       "150  0.047017 -0.470673 -0.177591 -0.110135  0.060646  0.072362 -0.430308   \n",
       "151  0.045586 -0.472067 -0.176680 -0.111250  0.064202  0.078444 -0.436191   \n",
       "\n",
       "          7         8         9    ...       290       291       292  \\\n",
       "0    0.023970  0.002197  0.005664  ...  0.054978 -0.011042 -0.422587   \n",
       "1    0.026247  0.000754  0.005336  ...  0.054311 -0.012711 -0.420422   \n",
       "2    0.016039 -0.001096  0.008730  ...  0.047986 -0.007814 -0.423469   \n",
       "3    0.025394  0.000688  0.005907  ...  0.056330 -0.014192 -0.422098   \n",
       "4    0.021308  0.001091  0.005531  ...  0.050403 -0.012078 -0.421168   \n",
       "..        ...       ...       ...  ...       ...       ...       ...   \n",
       "147  0.026487  0.000383  0.004232  ...  0.058600 -0.015615 -0.421761   \n",
       "148  0.023403  0.000180  0.006896  ...  0.052061 -0.010522 -0.423800   \n",
       "149  0.026734  0.002478  0.006643  ...  0.060910 -0.019040 -0.428539   \n",
       "150  0.024766  0.000785  0.008610  ...  0.058805 -0.014152 -0.424705   \n",
       "151  0.020851  0.000117  0.009354  ...  0.051438 -0.013885 -0.424830   \n",
       "\n",
       "          293       294       295       296       297       298       299  \n",
       "0    0.117365 -0.045470  0.060640  0.070408  0.433676 -0.180066 -0.006274  \n",
       "1    0.120504 -0.047409  0.063532  0.071119  0.437064 -0.180782 -0.006327  \n",
       "2    0.119311 -0.038719  0.060234  0.067308  0.430105 -0.182800  0.004314  \n",
       "3    0.120440 -0.044725  0.063443  0.071703  0.433857 -0.181058 -0.005857  \n",
       "4    0.113696 -0.041331  0.061586  0.071667  0.439560 -0.177153 -0.003478  \n",
       "..        ...       ...       ...       ...       ...       ...       ...  \n",
       "147  0.119955 -0.043128  0.061627  0.071682  0.435125 -0.180907 -0.008896  \n",
       "148  0.118548 -0.041915  0.066871  0.069289  0.435122 -0.181913 -0.004838  \n",
       "149  0.118366 -0.040926  0.064805  0.069541  0.426809 -0.173203 -0.005083  \n",
       "150  0.119273 -0.039459  0.065795  0.067146  0.437436 -0.178875 -0.003260  \n",
       "151  0.115276 -0.036413  0.065198  0.067539  0.436318 -0.180885 -0.000039  \n",
       "\n",
       "[152 rows x 300 columns]"
      ]
     },
     "execution_count": 15,
     "metadata": {},
     "output_type": "execute_result"
    }
   ],
   "source": [
    "pd.DataFrame(list(map(np.ravel, vectorized)))"
   ]
  },
  {
   "cell_type": "code",
   "execution_count": 16,
   "metadata": {},
   "outputs": [],
   "source": [
    "df = pd.concat([df,pd.DataFrame(list(map(np.ravel, vectorized)))], axis=1)"
   ]
  },
  {
   "cell_type": "code",
   "execution_count": 17,
   "metadata": {},
   "outputs": [
    {
     "data": {
      "text/html": [
       "<div>\n",
       "<style scoped>\n",
       "    .dataframe tbody tr th:only-of-type {\n",
       "        vertical-align: middle;\n",
       "    }\n",
       "\n",
       "    .dataframe tbody tr th {\n",
       "        vertical-align: top;\n",
       "    }\n",
       "\n",
       "    .dataframe thead th {\n",
       "        text-align: right;\n",
       "    }\n",
       "</style>\n",
       "<table border=\"1\" class=\"dataframe\">\n",
       "  <thead>\n",
       "    <tr style=\"text-align: right;\">\n",
       "      <th></th>\n",
       "      <th>session</th>\n",
       "      <th>year</th>\n",
       "      <th>country</th>\n",
       "      <th>text</th>\n",
       "      <th>document</th>\n",
       "      <th>0</th>\n",
       "      <th>1</th>\n",
       "      <th>2</th>\n",
       "      <th>3</th>\n",
       "      <th>4</th>\n",
       "      <th>...</th>\n",
       "      <th>290</th>\n",
       "      <th>291</th>\n",
       "      <th>292</th>\n",
       "      <th>293</th>\n",
       "      <th>294</th>\n",
       "      <th>295</th>\n",
       "      <th>296</th>\n",
       "      <th>297</th>\n",
       "      <th>298</th>\n",
       "      <th>299</th>\n",
       "    </tr>\n",
       "  </thead>\n",
       "  <tbody>\n",
       "    <tr>\n",
       "      <th>0</th>\n",
       "      <td>44</td>\n",
       "      <td>1989</td>\n",
       "      <td>RUS</td>\n",
       "      <td>﻿My task as head of the delegation of the Sovi...</td>\n",
       "      <td>task head delegation soviet union general asse...</td>\n",
       "      <td>0.041803</td>\n",
       "      <td>-0.474364</td>\n",
       "      <td>-0.177181</td>\n",
       "      <td>-0.115030</td>\n",
       "      <td>0.064566</td>\n",
       "      <td>...</td>\n",
       "      <td>0.054978</td>\n",
       "      <td>-0.011042</td>\n",
       "      <td>-0.422587</td>\n",
       "      <td>0.117365</td>\n",
       "      <td>-0.045470</td>\n",
       "      <td>0.060640</td>\n",
       "      <td>0.070408</td>\n",
       "      <td>0.433676</td>\n",
       "      <td>-0.180066</td>\n",
       "      <td>-0.006274</td>\n",
       "    </tr>\n",
       "    <tr>\n",
       "      <th>1</th>\n",
       "      <td>44</td>\n",
       "      <td>1989</td>\n",
       "      <td>DEU</td>\n",
       "      <td>﻿\\nI congratulate you, Sir, on your election a...</td>\n",
       "      <td>congratulate sir election president general as...</td>\n",
       "      <td>0.045170</td>\n",
       "      <td>-0.479347</td>\n",
       "      <td>-0.176777</td>\n",
       "      <td>-0.114831</td>\n",
       "      <td>0.058033</td>\n",
       "      <td>...</td>\n",
       "      <td>0.054311</td>\n",
       "      <td>-0.012711</td>\n",
       "      <td>-0.420422</td>\n",
       "      <td>0.120504</td>\n",
       "      <td>-0.047409</td>\n",
       "      <td>0.063532</td>\n",
       "      <td>0.071119</td>\n",
       "      <td>0.437064</td>\n",
       "      <td>-0.180782</td>\n",
       "      <td>-0.006327</td>\n",
       "    </tr>\n",
       "    <tr>\n",
       "      <th>2</th>\n",
       "      <td>44</td>\n",
       "      <td>1989</td>\n",
       "      <td>USA</td>\n",
       "      <td>﻿I am honoured to address the General Assembly...</td>\n",
       "      <td>honour address general assembly today beginnin...</td>\n",
       "      <td>0.042098</td>\n",
       "      <td>-0.477911</td>\n",
       "      <td>-0.177789</td>\n",
       "      <td>-0.111894</td>\n",
       "      <td>0.065718</td>\n",
       "      <td>...</td>\n",
       "      <td>0.047986</td>\n",
       "      <td>-0.007814</td>\n",
       "      <td>-0.423469</td>\n",
       "      <td>0.119311</td>\n",
       "      <td>-0.038719</td>\n",
       "      <td>0.060234</td>\n",
       "      <td>0.067308</td>\n",
       "      <td>0.430105</td>\n",
       "      <td>-0.182800</td>\n",
       "      <td>0.004314</td>\n",
       "    </tr>\n",
       "    <tr>\n",
       "      <th>3</th>\n",
       "      <td>44</td>\n",
       "      <td>1989</td>\n",
       "      <td>DDR</td>\n",
       "      <td>﻿May I congratulate you, Sir, on your election...</td>\n",
       "      <td>may congratulate sir election president forty ...</td>\n",
       "      <td>0.040613</td>\n",
       "      <td>-0.473045</td>\n",
       "      <td>-0.178341</td>\n",
       "      <td>-0.113857</td>\n",
       "      <td>0.065143</td>\n",
       "      <td>...</td>\n",
       "      <td>0.056330</td>\n",
       "      <td>-0.014192</td>\n",
       "      <td>-0.422098</td>\n",
       "      <td>0.120440</td>\n",
       "      <td>-0.044725</td>\n",
       "      <td>0.063443</td>\n",
       "      <td>0.071703</td>\n",
       "      <td>0.433857</td>\n",
       "      <td>-0.181058</td>\n",
       "      <td>-0.005857</td>\n",
       "    </tr>\n",
       "    <tr>\n",
       "      <th>4</th>\n",
       "      <td>25</td>\n",
       "      <td>1970</td>\n",
       "      <td>USA</td>\n",
       "      <td>1.\\t It is my privilege to extend to you once ...</td>\n",
       "      <td>1 privilege extend warm congratulation united ...</td>\n",
       "      <td>0.039868</td>\n",
       "      <td>-0.468658</td>\n",
       "      <td>-0.175847</td>\n",
       "      <td>-0.115713</td>\n",
       "      <td>0.068617</td>\n",
       "      <td>...</td>\n",
       "      <td>0.050403</td>\n",
       "      <td>-0.012078</td>\n",
       "      <td>-0.421168</td>\n",
       "      <td>0.113696</td>\n",
       "      <td>-0.041331</td>\n",
       "      <td>0.061586</td>\n",
       "      <td>0.071667</td>\n",
       "      <td>0.439560</td>\n",
       "      <td>-0.177153</td>\n",
       "      <td>-0.003478</td>\n",
       "    </tr>\n",
       "  </tbody>\n",
       "</table>\n",
       "<p>5 rows × 305 columns</p>\n",
       "</div>"
      ],
      "text/plain": [
       "   session  year country                                               text  \\\n",
       "0       44  1989     RUS  ﻿My task as head of the delegation of the Sovi...   \n",
       "1       44  1989     DEU  ﻿\\nI congratulate you, Sir, on your election a...   \n",
       "2       44  1989     USA  ﻿I am honoured to address the General Assembly...   \n",
       "3       44  1989     DDR  ﻿May I congratulate you, Sir, on your election...   \n",
       "4       25  1970     USA  1.\\t It is my privilege to extend to you once ...   \n",
       "\n",
       "                                            document         0         1  \\\n",
       "0  task head delegation soviet union general asse...  0.041803 -0.474364   \n",
       "1  congratulate sir election president general as...  0.045170 -0.479347   \n",
       "2  honour address general assembly today beginnin...  0.042098 -0.477911   \n",
       "3  may congratulate sir election president forty ...  0.040613 -0.473045   \n",
       "4  1 privilege extend warm congratulation united ...  0.039868 -0.468658   \n",
       "\n",
       "          2         3         4  ...       290       291       292       293  \\\n",
       "0 -0.177181 -0.115030  0.064566  ...  0.054978 -0.011042 -0.422587  0.117365   \n",
       "1 -0.176777 -0.114831  0.058033  ...  0.054311 -0.012711 -0.420422  0.120504   \n",
       "2 -0.177789 -0.111894  0.065718  ...  0.047986 -0.007814 -0.423469  0.119311   \n",
       "3 -0.178341 -0.113857  0.065143  ...  0.056330 -0.014192 -0.422098  0.120440   \n",
       "4 -0.175847 -0.115713  0.068617  ...  0.050403 -0.012078 -0.421168  0.113696   \n",
       "\n",
       "        294       295       296       297       298       299  \n",
       "0 -0.045470  0.060640  0.070408  0.433676 -0.180066 -0.006274  \n",
       "1 -0.047409  0.063532  0.071119  0.437064 -0.180782 -0.006327  \n",
       "2 -0.038719  0.060234  0.067308  0.430105 -0.182800  0.004314  \n",
       "3 -0.044725  0.063443  0.071703  0.433857 -0.181058 -0.005857  \n",
       "4 -0.041331  0.061586  0.071667  0.439560 -0.177153 -0.003478  \n",
       "\n",
       "[5 rows x 305 columns]"
      ]
     },
     "execution_count": 17,
     "metadata": {},
     "output_type": "execute_result"
    }
   ],
   "source": [
    "df.head()"
   ]
  },
  {
   "cell_type": "markdown",
   "metadata": {},
   "source": [
    "## Exercise 4 - Write functions to find the number of clusters using k-means\n",
    "\n",
    "**Note:** Get the number of clusters using the elbow method."
   ]
  },
  {
   "cell_type": "code",
   "execution_count": 18,
   "metadata": {},
   "outputs": [],
   "source": [
    "def elbow_method(Y_sklearn):\n",
    "    \n",
    "    \"\"\"\n",
    "    This function is used to get the optimal number of clusters in order to feed to the k-means clustering algorithm.\n",
    "    \n",
    "    \"\"\"\n",
    "    \n",
    "    #algorithm{“lloyd”, “elkan”, “auto”, “full”}, default=”lloyd” per default: The classical EM-style algorithm is \"lloyd\".\n",
    "\n",
    "    number_clusters = range(1, 11)  # Range of possible clusters that can be generated\n",
    "    kmeans = [KMeans(n_clusters=i, max_iter = 600,random_state=seed) for i in number_clusters] # Getting no. of clusters \n",
    "\n",
    "    score = [kmeans[i].fit(Y_sklearn).score(Y_sklearn) for i in range(len(kmeans))] # Getting score corresponding to each cluster.\n",
    "    score = [i*-1 for i in score] # Getting list of positive scores.\n",
    "    \n",
    "    #score = sum of distances of samples to their closest cluster center. distance = euclidian distance\n",
    "    \n",
    "    plt.locator_params(axis='y', nbins=12)\n",
    "    plt.locator_params(axis='x', nbins=10)\n",
    "    \n",
    "    plt.plot(number_clusters, score)\n",
    "    plt.xlabel('Number of Clusters')\n",
    "    plt.ylabel('Sum of Distances')\n",
    "    #plt.title('Elbow Method')\n",
    "    plt.show()"
   ]
  },
  {
   "cell_type": "markdown",
   "metadata": {},
   "source": [
    "## Exercise 5 - Conduct the k-means, add it to the data frame "
   ]
  },
  {
   "cell_type": "markdown",
   "metadata": {},
   "source": [
    "Now, it's time to conduct the k-means.\n",
    "\n",
    "First, find the number of clusters.\n",
    "\n",
    "Second, build the model.\n",
    "\n",
    "Third, add it to the data frame."
   ]
  },
  {
   "cell_type": "code",
   "execution_count": 19,
   "metadata": {},
   "outputs": [],
   "source": [
    "#find the number of clusters\n",
    "#elbow_method(df.loc[:, '0':'299'])"
   ]
  },
  {
   "cell_type": "code",
   "execution_count": 20,
   "metadata": {},
   "outputs": [],
   "source": [
    "#number of clusters: result from elbow method\n",
    "nclusters = 2"
   ]
  },
  {
   "cell_type": "code",
   "execution_count": 21,
   "metadata": {},
   "outputs": [
    {
     "name": "stderr",
     "output_type": "stream",
     "text": [
      "C:\\Users\\Maximilian Andres\\AppData\\Local\\Programs\\Python\\Python312\\Lib\\site-packages\\threadpoolctl.py:1214: RuntimeWarning: \n",
      "Found Intel OpenMP ('libiomp') and LLVM OpenMP ('libomp') loaded at\n",
      "the same time. Both libraries are known to be incompatible and this\n",
      "can cause random crashes or deadlocks on Linux when loaded in the\n",
      "same Python program.\n",
      "Using threadpoolctl may cause crashes or deadlocks. For more\n",
      "information and possible workarounds, please see\n",
      "    https://github.com/joblib/threadpoolctl/blob/master/multiple_openmp.md\n",
      "\n",
      "  warnings.warn(msg, RuntimeWarning)\n"
     ]
    }
   ],
   "source": [
    "#build k means model\n",
    "km = KMeans(n_clusters=nclusters, init='k-means++', max_iter=600, random_state=seed, n_init=10).fit(vectorized)"
   ]
  },
  {
   "cell_type": "code",
   "execution_count": 22,
   "metadata": {},
   "outputs": [
    {
     "data": {
      "text/plain": [
       "array([0, 0, 0, 1, 1, 1, 0, 0, 0, 0, 1, 0, 0, 0, 1, 1, 0, 0, 0, 1, 0, 0,\n",
       "       0, 1, 1, 0, 1, 1, 0, 1, 0, 0, 0, 1, 0, 0, 0, 1, 0, 1, 0, 1, 0, 0,\n",
       "       1, 0, 0, 0, 1, 1, 0, 1, 0, 1, 1, 0, 1, 1, 0, 1, 1, 0, 1, 0, 1, 1,\n",
       "       0, 0, 0, 1, 1, 0, 0, 0, 1, 1, 1, 1, 1, 0, 0, 0, 1, 1, 1, 0, 0, 1,\n",
       "       0, 0, 0, 1, 1, 0, 1, 0, 1, 0, 1, 1, 1, 0, 0, 0, 0, 1, 1, 0, 0, 1,\n",
       "       0, 0, 1, 0, 0, 1, 0, 1, 0, 1, 0, 1, 0, 1, 1, 0, 0, 1, 0, 0, 0, 1,\n",
       "       0, 0, 1, 0, 0, 1, 1, 0, 0, 1, 1, 1, 0, 0, 0, 1, 0, 1, 1, 0])"
      ]
     },
     "execution_count": 22,
     "metadata": {},
     "output_type": "execute_result"
    }
   ],
   "source": [
    "#documents to cluster assignment\n",
    "km.labels_"
   ]
  },
  {
   "cell_type": "code",
   "execution_count": 23,
   "metadata": {},
   "outputs": [],
   "source": [
    "df['k_means_cluster']=km.labels_"
   ]
  },
  {
   "cell_type": "markdown",
   "metadata": {},
   "source": [
    "## Exercise 6 - See what are the top n tokens in each cluster\n",
    "\n",
    "*Hint:* You may write a function returning you the top n tokens in each cluster"
   ]
  },
  {
   "cell_type": "code",
   "execution_count": 24,
   "metadata": {},
   "outputs": [],
   "source": [
    "def get_top_n_words(corpus, n=None):\n",
    "    \n",
    "    \"\"\"\n",
    "    List the top n words in a vocabulary according to occurrence in a text corpus.\n",
    "    \n",
    "    \"\"\"\n",
    "    vec = CountVectorizer(token_pattern = r\"(?u)\\b\\w+\\b\").fit(corpus)\n",
    "    bag_of_words = vec.transform(corpus)\n",
    "    sum_words = bag_of_words.sum(axis=0) \n",
    "    words_freq = [(word, sum_words[0, idx]) for word, idx in     vec.vocabulary_.items()]\n",
    "    words_freq =sorted(words_freq, key = lambda x: x[1], reverse=True)\n",
    "    return words_freq[:n]"
   ]
  },
  {
   "cell_type": "code",
   "execution_count": 25,
   "metadata": {},
   "outputs": [
    {
     "name": "stdout",
     "output_type": "stream",
     "text": [
      "united 2077\n",
      "states 1736\n",
      "nations 1490\n",
      "international 1409\n",
      "world 1177\n",
      "people 1080\n",
      "peace 1014\n",
      "country 960\n",
      "security 946\n",
      "soviet 894\n",
      "nuclear 890\n",
      "weapon 709\n",
      "union 708\n",
      "would 688\n",
      "must 685\n",
      "state 624\n",
      "make 618\n",
      "republic 607\n",
      "war 570\n",
      "general 560\n"
     ]
    }
   ],
   "source": [
    "common_words = get_top_n_words(df.loc[km.labels_==1]['document'], 20)\n",
    "for word, freq in common_words:\n",
    "    print(word, freq)"
   ]
  },
  {
   "cell_type": "markdown",
   "metadata": {},
   "source": [
    "## Exercise 7 - Visualize the k-means\n",
    "\n",
    "**Note:** You may use a PCA with two components to visualize the k-means"
   ]
  },
  {
   "cell_type": "code",
   "execution_count": 26,
   "metadata": {},
   "outputs": [
    {
     "data": {
      "image/png": "[encoded data removed]",
      "text/plain": [
       "<Figure size 640x480 with 1 Axes>"
      ]
     },
     "metadata": {},
     "output_type": "display_data"
    }
   ],
   "source": [
    "reduced_data = PCA(n_components=2).fit_transform(vectorized)\n",
    "kmeans = KMeans(init=\"k-means++\", n_clusters=nclusters, n_init=10)\n",
    "kmeans.fit(reduced_data)\n",
    "\n",
    "# Step size of the mesh. Decrease to increase the quality of the VQ.\n",
    "h = 0.02  # point in the mesh [x_min, x_max]x[y_min, y_max].\n",
    "\n",
    "# Plot the decision boundary. For that, we will assign a color to each\n",
    "x_min, x_max = reduced_data[:, 0].min() - 1, reduced_data[:, 0].max() + 1\n",
    "y_min, y_max = reduced_data[:, 1].min() - 1, reduced_data[:, 1].max() + 1\n",
    "xx, yy = np.meshgrid(np.arange(x_min, x_max, h), np.arange(y_min, y_max, h))\n",
    "\n",
    "# Obtain labels for each point in mesh. Use last trained model.\n",
    "Z = kmeans.predict(np.c_[xx.ravel(), yy.ravel()])\n",
    "\n",
    "# Put the result into a color plot\n",
    "Z = Z.reshape(xx.shape)\n",
    "plt.figure(1)\n",
    "plt.clf()\n",
    "plt.imshow(\n",
    "    Z,\n",
    "    interpolation=\"nearest\",\n",
    "    extent=(xx.min(), xx.max(), yy.min(), yy.max()),\n",
    "    cmap=plt.cm.Paired,\n",
    "    aspect=\"auto\",\n",
    "    origin=\"lower\",\n",
    ")\n",
    "\n",
    "plt.plot(reduced_data[:, 0], reduced_data[:, 1], \"k.\", markersize=2)\n",
    "# Plot the centroids as a white X\n",
    "centroids = kmeans.cluster_centers_\n",
    "plt.scatter(\n",
    "    centroids[:, 0],\n",
    "    centroids[:, 1],\n",
    "    marker=\"x\",\n",
    "    s=169,\n",
    "    linewidths=3,\n",
    "    color=\"w\",\n",
    "    zorder=10,\n",
    ")\n",
    "plt.title(\n",
    "    \"K-means clustering on the digits dataset (PCA-reduced data)\\n\"\n",
    "    \"Centroids are marked with white cross\"\n",
    ")\n",
    "plt.xlim(x_min, x_max)\n",
    "plt.ylim(y_min, y_max)\n",
    "plt.xticks(())\n",
    "plt.yticks(())\n",
    "plt.show()"
   ]
  },
  {
   "cell_type": "code",
   "execution_count": null,
   "metadata": {},
   "outputs": [],
   "source": []
  }
 ],
 "metadata": {
  "kernelspec": {
   "display_name": "Python 3 (ipykernel)",
   "language": "python",
   "name": "python3"
  },
  "language_info": {
   "codemirror_mode": {
    "name": "ipython",
    "version": 3
   },
   "file_extension": ".py",
   "mimetype": "text/x-python",
   "name": "python",
   "nbconvert_exporter": "python",
   "pygments_lexer": "ipython3",
   "version": "3.12.4"
  }
 },
 "nbformat": 4,
 "nbformat_minor": 4
}
